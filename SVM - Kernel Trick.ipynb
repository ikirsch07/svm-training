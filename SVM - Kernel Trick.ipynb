{
 "cells": [
  {
   "cell_type": "markdown",
   "metadata": {},
   "source": [
    "# SVM - Kernel Trick\n",
    "\n",
    "The SVM for non-linearly separable data can be solved by a hard SVM (linear kernel) in a higher-dimensional space. This is based on https://github.com/jakkcoder/SVM-kernel-trick. "
   ]
  },
  {
   "cell_type": "code",
   "execution_count": 1,
   "metadata": {
    "colab": {},
    "colab_type": "code",
    "id": "2XkZDyjvyJFR"
   },
   "outputs": [],
   "source": [
    "import numpy as np\n",
    "import pandas as pd \n",
    "import matplotlib.pyplot as plt\n",
    "from sklearn import svm\n",
    "from matplotlib.colors import ListedColormap\n",
    "from sklearn.model_selection import train_test_split\n",
    "from sklearn.metrics import accuracy_score\n",
    "from sklearn.metrics import plot_confusion_matrix\n",
    "import plotly.express as px"
   ]
  },
  {
   "cell_type": "markdown",
   "metadata": {
    "colab_type": "text",
    "id": "FkqhOWzQsRyt"
   },
   "source": [
    "### Generating Circular datapoint with circle equation \n",
    "### (x – h)^2 + (y – k)^2 = r^2"
   ]
  },
  {
   "cell_type": "code",
   "execution_count": 2,
   "metadata": {
    "colab": {},
    "colab_type": "code",
    "id": "TBOGJcEl4Aui"
   },
   "outputs": [],
   "source": [
    "def circle(R,X_lim):\n",
    "    X = np.arange(-X_lim,X_lim,.2)\n",
    "    Y= np.sqrt(R**2 - X**2)\n",
    "    Y= np.hstack([Y,-Y])\n",
    "    X= np.hstack([X,X])\n",
    "    return(Y,X)"
   ]
  },
  {
   "cell_type": "code",
   "execution_count": 45,
   "metadata": {
    "colab": {
     "base_uri": "https://localhost:8080/",
     "height": 283
    },
    "colab_type": "code",
    "executionInfo": {
     "elapsed": 1948,
     "status": "ok",
     "timestamp": 1588076619982,
     "user": {
      "displayName": "jay shankar",
      "photoUrl": "https://lh3.googleusercontent.com/a-/AOh14GgRrWGWz3VCuyilNJEb_JWHMXVuexkv-FuUSP4LyQ=s64",
      "userId": "11422029424551483139"
     },
     "user_tz": -330
    },
    "id": "D2ncGHWa4Dqc",
    "outputId": "8f62df35-bbfe-4a4e-eb74-dd3865d77e4c"
   },
   "outputs": [
    {
     "data": {
      "text/plain": [
       "<matplotlib.collections.PathCollection at 0x133154c40>"
      ]
     },
     "execution_count": 45,
     "metadata": {},
     "output_type": "execute_result"
    },
    {
     "data": {
      "image/png": "[encoded data removed]",
      "text/plain": [
       "<Figure size 432x288 with 1 Axes>"
      ]
     },
     "metadata": {
      "needs_background": "light"
     },
     "output_type": "display_data"
    }
   ],
   "source": [
    "Y_in,X_in = circle(10,10)\n",
    "Y_out,X_out = circle(20,11)\n",
    "\n",
    "plt.scatter(Y_in,X_in)\n",
    "plt.scatter(Y_out,X_out)"
   ]
  },
  {
   "cell_type": "markdown",
   "metadata": {
    "colab_type": "text",
    "id": "7DscVS1L4D6i"
   },
   "source": [
    "### Converting numpy array to dataFrame"
   ]
  },
  {
   "cell_type": "code",
   "execution_count": 46,
   "metadata": {
    "colab": {
     "base_uri": "https://localhost:8080/",
     "height": 141
    },
    "colab_type": "code",
    "executionInfo": {
     "elapsed": 1938,
     "status": "ok",
     "timestamp": 1588076644926,
     "user": {
      "displayName": "jay shankar",
      "photoUrl": "https://lh3.googleusercontent.com/a-/AOh14GgRrWGWz3VCuyilNJEb_JWHMXVuexkv-FuUSP4LyQ=s64",
      "userId": "11422029424551483139"
     },
     "user_tz": -330
    },
    "id": "CCcIIJ_C3-l7",
    "outputId": "b1817615-79f3-431d-e078-a89bd8383e00"
   },
   "outputs": [
    {
     "data": {
      "text/html": [
       "<div>\n",
       "<style scoped>\n",
       "    .dataframe tbody tr th:only-of-type {\n",
       "        vertical-align: middle;\n",
       "    }\n",
       "\n",
       "    .dataframe tbody tr th {\n",
       "        vertical-align: top;\n",
       "    }\n",
       "\n",
       "    .dataframe thead th {\n",
       "        text-align: right;\n",
       "    }\n",
       "</style>\n",
       "<table border=\"1\" class=\"dataframe\">\n",
       "  <thead>\n",
       "    <tr style=\"text-align: right;\">\n",
       "      <th></th>\n",
       "      <th>X1</th>\n",
       "      <th>X2</th>\n",
       "      <th>Y</th>\n",
       "    </tr>\n",
       "  </thead>\n",
       "  <tbody>\n",
       "    <tr>\n",
       "      <th>0</th>\n",
       "      <td>0.000000</td>\n",
       "      <td>-10.0</td>\n",
       "      <td>0</td>\n",
       "    </tr>\n",
       "    <tr>\n",
       "      <th>1</th>\n",
       "      <td>1.989975</td>\n",
       "      <td>-9.8</td>\n",
       "      <td>0</td>\n",
       "    </tr>\n",
       "    <tr>\n",
       "      <th>2</th>\n",
       "      <td>2.800000</td>\n",
       "      <td>-9.6</td>\n",
       "      <td>0</td>\n",
       "    </tr>\n",
       "  </tbody>\n",
       "</table>\n",
       "</div>"
      ],
      "text/plain": [
       "         X1    X2  Y\n",
       "0  0.000000 -10.0  0\n",
       "1  1.989975  -9.8  0\n",
       "2  2.800000  -9.6  0"
      ]
     },
     "execution_count": 46,
     "metadata": {},
     "output_type": "execute_result"
    }
   ],
   "source": [
    "df1 =pd.DataFrame(np.vstack([Y_in,X_in]).T,columns=['X1','X2'])\n",
    "df1['Y']=0\n",
    "df2 =pd.DataFrame(np.vstack([Y_out,X_out]).T,columns=['X1','X2'])\n",
    "df2['Y']=1\n",
    "df = pd.concat([df1, df2])\n",
    "df.head(3)"
   ]
  },
  {
   "cell_type": "markdown",
   "metadata": {
    "colab_type": "text",
    "id": "Nx1fQ636vCfH"
   },
   "source": [
    "### Fitting up support vector machine and plotling decision boundaries"
   ]
  },
  {
   "cell_type": "code",
   "execution_count": 47,
   "metadata": {
    "colab": {},
    "colab_type": "code",
    "id": "GepgP42su23S"
   },
   "outputs": [],
   "source": [
    "def make_meshgrid(x, y, h=.02):\n",
    "    x_min, x_max = x.min() - 1, x.max() + 1\n",
    "    y_min, y_max = y.min() - 1, y.max() + 1\n",
    "    xx, yy = np.meshgrid(np.arange(x_min, x_max, h), np.arange(y_min, y_max, h))\n",
    "    return xx, yy\n",
    "\n",
    "def plot_contours(ax, clf, xx, yy, **params):\n",
    "    Z = clf.predict(np.c_[xx.ravel(), yy.ravel()])\n",
    "    Z = Z.reshape(xx.shape)\n",
    "    out = ax.contourf(xx, yy, Z, **params)\n",
    "    return out\n",
    "\n",
    "\n",
    "def plot_decision_boundary(X,y,ker ='linear'):\n",
    "    model = svm.SVC(kernel=ker)\n",
    "    clf = model.fit(X, y)\n",
    "    fig, ax = plt.subplots()\n",
    "    # title for the plots\n",
    "    title = (f'Decision surface of SVC with {ker} kernal')\n",
    "    # Set-up grid for plotting.\n",
    "    X0, X1 = X[:, 0], X[:, 1]\n",
    "    xx, yy = make_meshgrid(X0, X1)\n",
    "    plot_contours(ax, clf, xx, yy, cmap=plt.cm.coolwarm, alpha=0.8)\n",
    "    ax.scatter(X0, X1, c=y, cmap=plt.cm.coolwarm, s=20, edgecolors='k')\n",
    "    ax.set_ylabel('y')\n",
    "    ax.set_xlabel('x')\n",
    "    ax.set_xticks(())\n",
    "    ax.set_yticks(())\n",
    "    ax.set_title(title)\n",
    "    plt.show()"
   ]
  },
  {
   "cell_type": "code",
   "execution_count": 48,
   "metadata": {
    "colab": {
     "base_uri": "https://localhost:8080/",
     "height": 278
    },
    "colab_type": "code",
    "executionInfo": {
     "elapsed": 9812,
     "status": "ok",
     "timestamp": 1588076710877,
     "user": {
      "displayName": "jay shankar",
      "photoUrl": "https://lh3.googleusercontent.com/a-/AOh14GgRrWGWz3VCuyilNJEb_JWHMXVuexkv-FuUSP4LyQ=s64",
      "userId": "11422029424551483139"
     },
     "user_tz": -330
    },
    "id": "shEVOvDi2sIw",
    "outputId": "3d45fe20-8948-4986-ef0d-7a2ce2fda9c7"
   },
   "outputs": [
    {
     "data": {
      "image/png": "[encoded data removed]",
      "text/plain": [
       "<Figure size 432x288 with 1 Axes>"
      ]
     },
     "metadata": {},
     "output_type": "display_data"
    }
   ],
   "source": [
    "X = df.iloc[:, :2].values  # we only take the first two features.\n",
    "y = df.Y.values\n",
    "plot_decision_boundary(X,y, 'linear')"
   ]
  },
  {
   "cell_type": "markdown",
   "metadata": {
    "colab_type": "text",
    "id": "XEpnImV26zNZ"
   },
   "source": [
    "### Train and Test dataset confusion matrix and accuracy"
   ]
  },
  {
   "cell_type": "code",
   "execution_count": 49,
   "metadata": {
    "colab": {
     "base_uri": "https://localhost:8080/",
     "height": 35
    },
    "colab_type": "code",
    "executionInfo": {
     "elapsed": 1235,
     "status": "ok",
     "timestamp": 1588077540456,
     "user": {
      "displayName": "jay shankar",
      "photoUrl": "https://lh3.googleusercontent.com/a-/AOh14GgRrWGWz3VCuyilNJEb_JWHMXVuexkv-FuUSP4LyQ=s64",
      "userId": "11422029424551483139"
     },
     "user_tz": -330
    },
    "id": "f1CoO_Et6uef",
    "outputId": "e3129810-bdec-4683-fa63-4e69a863e9a4"
   },
   "outputs": [
    {
     "data": {
      "text/plain": [
       "1.0"
      ]
     },
     "execution_count": 49,
     "metadata": {},
     "output_type": "execute_result"
    }
   ],
   "source": [
    "X = df.loc[:, [\"X1\", \"X2\"]].values\n",
    "y = df.loc[:, \"Y\"].values\n",
    "X_train, X_test, y_train, y_test = train_test_split(X, y, \n",
    "                                                    test_size = 0.25, \n",
    "                                                    random_state = 0)\n",
    "classifier = svm.SVC(kernel=\"rbf\")\n",
    "classifier.fit(X_train, y_train.ravel())\n",
    "y_pred = classifier.predict(X_test)\n",
    "accuracy_score(y_test, y_pred)"
   ]
  },
  {
   "cell_type": "code",
   "execution_count": 50,
   "metadata": {
    "colab": {
     "base_uri": "https://localhost:8080/",
     "height": 297
    },
    "colab_type": "code",
    "executionInfo": {
     "elapsed": 1905,
     "status": "ok",
     "timestamp": 1588075953933,
     "user": {
      "displayName": "jay shankar",
      "photoUrl": "https://lh3.googleusercontent.com/a-/AOh14GgRrWGWz3VCuyilNJEb_JWHMXVuexkv-FuUSP4LyQ=s64",
      "userId": "11422029424551483139"
     },
     "user_tz": -330
    },
    "id": "lDhATFEs7MfU",
    "outputId": "22126029-ff86-43af-e324-a0a2d277bcd3"
   },
   "outputs": [
    {
     "name": "stderr",
     "output_type": "stream",
     "text": [
      "/usr/local/lib/python3.9/site-packages/sklearn/utils/deprecation.py:87: FutureWarning:\n",
      "\n",
      "Function plot_confusion_matrix is deprecated; Function `plot_confusion_matrix` is deprecated in 1.0 and will be removed in 1.2. Use one of the class methods: ConfusionMatrixDisplay.from_predictions or ConfusionMatrixDisplay.from_estimator.\n",
      "\n"
     ]
    },
    {
     "data": {
      "text/plain": [
       "<sklearn.metrics._plot.confusion_matrix.ConfusionMatrixDisplay at 0x133194d60>"
      ]
     },
     "execution_count": 50,
     "metadata": {},
     "output_type": "execute_result"
    },
    {
     "data": {
      "image/png": "[encoded data removed]",
      "text/plain": [
       "<Figure size 432x288 with 2 Axes>"
      ]
     },
     "metadata": {
      "needs_background": "light"
     },
     "output_type": "display_data"
    }
   ],
   "source": [
    "plot_confusion_matrix(classifier, X_test, y_test, cmap='terrain')"
   ]
  },
  {
   "cell_type": "markdown",
   "metadata": {},
   "source": [
    "Result: Problem not solvable by a SVM with linear kernel. There is no linear hyperplane that separates the data."
   ]
  },
  {
   "cell_type": "markdown",
   "metadata": {
    "colab_type": "text",
    "id": "vrAYd6KgsMli"
   },
   "source": [
    "## A) Solution in 5D\n",
    "\n",
    "### Create 5-dimensional feature space by adding quadratic features to the data: \n",
    "\n",
    "### \\Phi(x) = (X1, X2, X1^2, X^2, X1*X2)"
   ]
  },
  {
   "cell_type": "code",
   "execution_count": 39,
   "metadata": {
    "colab": {
     "base_uri": "https://localhost:8080/",
     "height": 202
    },
    "colab_type": "code",
    "executionInfo": {
     "elapsed": 2171,
     "status": "ok",
     "timestamp": 1588077286777,
     "user": {
      "displayName": "jay shankar",
      "photoUrl": "https://lh3.googleusercontent.com/a-/AOh14GgRrWGWz3VCuyilNJEb_JWHMXVuexkv-FuUSP4LyQ=s64",
      "userId": "11422029424551483139"
     },
     "user_tz": -330
    },
    "id": "lCa9RKTF4Ktm",
    "outputId": "a167ef7e-909c-4629-d71f-a2110284047e"
   },
   "outputs": [
    {
     "data": {
      "text/html": [
       "<div>\n",
       "<style scoped>\n",
       "    .dataframe tbody tr th:only-of-type {\n",
       "        vertical-align: middle;\n",
       "    }\n",
       "\n",
       "    .dataframe tbody tr th {\n",
       "        vertical-align: top;\n",
       "    }\n",
       "\n",
       "    .dataframe thead th {\n",
       "        text-align: right;\n",
       "    }\n",
       "</style>\n",
       "<table border=\"1\" class=\"dataframe\">\n",
       "  <thead>\n",
       "    <tr style=\"text-align: right;\">\n",
       "      <th></th>\n",
       "      <th>X1</th>\n",
       "      <th>X2</th>\n",
       "      <th>Y</th>\n",
       "      <th>X1_Sq</th>\n",
       "      <th>X2_Sq</th>\n",
       "      <th>X1_X2</th>\n",
       "    </tr>\n",
       "  </thead>\n",
       "  <tbody>\n",
       "    <tr>\n",
       "      <th>0</th>\n",
       "      <td>0.000000</td>\n",
       "      <td>-10.0</td>\n",
       "      <td>0</td>\n",
       "      <td>0.00</td>\n",
       "      <td>100.00</td>\n",
       "      <td>-0.000000</td>\n",
       "    </tr>\n",
       "    <tr>\n",
       "      <th>1</th>\n",
       "      <td>1.989975</td>\n",
       "      <td>-9.8</td>\n",
       "      <td>0</td>\n",
       "      <td>3.96</td>\n",
       "      <td>96.04</td>\n",
       "      <td>-19.501754</td>\n",
       "    </tr>\n",
       "    <tr>\n",
       "      <th>2</th>\n",
       "      <td>2.800000</td>\n",
       "      <td>-9.6</td>\n",
       "      <td>0</td>\n",
       "      <td>7.84</td>\n",
       "      <td>92.16</td>\n",
       "      <td>-26.880000</td>\n",
       "    </tr>\n",
       "    <tr>\n",
       "      <th>3</th>\n",
       "      <td>3.411744</td>\n",
       "      <td>-9.4</td>\n",
       "      <td>0</td>\n",
       "      <td>11.64</td>\n",
       "      <td>88.36</td>\n",
       "      <td>-32.070398</td>\n",
       "    </tr>\n",
       "    <tr>\n",
       "      <th>4</th>\n",
       "      <td>3.919184</td>\n",
       "      <td>-9.2</td>\n",
       "      <td>0</td>\n",
       "      <td>15.36</td>\n",
       "      <td>84.64</td>\n",
       "      <td>-36.056489</td>\n",
       "    </tr>\n",
       "  </tbody>\n",
       "</table>\n",
       "</div>"
      ],
      "text/plain": [
       "         X1    X2  Y  X1_Sq   X2_Sq      X1_X2\n",
       "0  0.000000 -10.0  0   0.00  100.00  -0.000000\n",
       "1  1.989975  -9.8  0   3.96   96.04 -19.501754\n",
       "2  2.800000  -9.6  0   7.84   92.16 -26.880000\n",
       "3  3.411744  -9.4  0  11.64   88.36 -32.070398\n",
       "4  3.919184  -9.2  0  15.36   84.64 -36.056489"
      ]
     },
     "execution_count": 39,
     "metadata": {},
     "output_type": "execute_result"
    }
   ],
   "source": [
    "df['X1_Sq']= df['X1']**2\n",
    "df['X2_Sq']= df['X2']**2\n",
    "df['X1_X2'] = (df['X1'] *df['X2'])\n",
    "df.head()"
   ]
  },
  {
   "cell_type": "markdown",
   "metadata": {},
   "source": [
    "### Now solve SVM problem in 5-dim. space using a linear kernel"
   ]
  },
  {
   "cell_type": "code",
   "execution_count": 40,
   "metadata": {
    "colab": {
     "base_uri": "https://localhost:8080/",
     "height": 35
    },
    "colab_type": "code",
    "executionInfo": {
     "elapsed": 1183,
     "status": "ok",
     "timestamp": 1588077511228,
     "user": {
      "displayName": "jay shankar",
      "photoUrl": "https://lh3.googleusercontent.com/a-/AOh14GgRrWGWz3VCuyilNJEb_JWHMXVuexkv-FuUSP4LyQ=s64",
      "userId": "11422029424551483139"
     },
     "user_tz": -330
    },
    "id": "t-fv48ZG6VbL",
    "outputId": "0e249dd2-58ef-4bec-8858-763a8d3277ac"
   },
   "outputs": [
    {
     "data": {
      "text/plain": [
       "1.0"
      ]
     },
     "execution_count": 40,
     "metadata": {},
     "output_type": "execute_result"
    }
   ],
   "source": [
    "X = df.loc[:, [\"X1\", \"X2\",'X1_Sq','X2_Sq','X1_X2']].values\n",
    "y = df.loc[:, \"Y\"].values\n",
    "X_train, X_test, y_train, y_test = train_test_split(X, y, \n",
    "                                                    test_size = 0.25, \n",
    "                                                    random_state = 0)\n",
    "classifier = svm.SVC(kernel=\"linear\")\n",
    "classifier.fit(X_train, y_train.ravel())\n",
    "y_pred = classifier.predict(X_test)\n",
    "accuracy_score(y_test, y_pred)"
   ]
  },
  {
   "cell_type": "code",
   "execution_count": 41,
   "metadata": {
    "colab": {
     "base_uri": "https://localhost:8080/",
     "height": 297
    },
    "colab_type": "code",
    "executionInfo": {
     "elapsed": 1872,
     "status": "ok",
     "timestamp": 1588077303492,
     "user": {
      "displayName": "jay shankar",
      "photoUrl": "https://lh3.googleusercontent.com/a-/AOh14GgRrWGWz3VCuyilNJEb_JWHMXVuexkv-FuUSP4LyQ=s64",
      "userId": "11422029424551483139"
     },
     "user_tz": -330
    },
    "id": "qLWW_jRO7oyA",
    "outputId": "8820c48d-d19b-4e08-cf15-4399d00d850d"
   },
   "outputs": [
    {
     "name": "stderr",
     "output_type": "stream",
     "text": [
      "/usr/local/lib/python3.9/site-packages/sklearn/utils/deprecation.py:87: FutureWarning:\n",
      "\n",
      "Function plot_confusion_matrix is deprecated; Function `plot_confusion_matrix` is deprecated in 1.0 and will be removed in 1.2. Use one of the class methods: ConfusionMatrixDisplay.from_predictions or ConfusionMatrixDisplay.from_estimator.\n",
      "\n"
     ]
    },
    {
     "data": {
      "text/plain": [
       "<sklearn.metrics._plot.confusion_matrix.ConfusionMatrixDisplay at 0x13223b5e0>"
      ]
     },
     "execution_count": 41,
     "metadata": {},
     "output_type": "execute_result"
    },
    {
     "data": {
      "image/png": "[encoded data removed]",
      "text/plain": [
       "<Figure size 432x288 with 2 Axes>"
      ]
     },
     "metadata": {
      "needs_background": "light"
     },
     "output_type": "display_data"
    }
   ],
   "source": [
    "plot_confusion_matrix(classifier, X_test, y_test, cmap='terrain')"
   ]
  },
  {
   "cell_type": "code",
   "execution_count": 42,
   "metadata": {
    "colab": {
     "base_uri": "https://localhost:8080/",
     "height": 542
    },
    "colab_type": "code",
    "executionInfo": {
     "elapsed": 2415,
     "status": "ok",
     "timestamp": 1588075965485,
     "user": {
      "displayName": "jay shankar",
      "photoUrl": "https://lh3.googleusercontent.com/a-/AOh14GgRrWGWz3VCuyilNJEb_JWHMXVuexkv-FuUSP4LyQ=s64",
      "userId": "11422029424551483139"
     },
     "user_tz": -330
    },
    "id": "TUY-40zXsqXr",
    "outputId": "11dce6b1-925a-46d1-bbcd-40802e86d883"
   },
   "outputs": [
    {
     "data": {
      "application/vnd.plotly.v1+json": {
       "config": {
        "plotlyServerURL": "https://plot.ly"
       },
       "data": [
        {
         "hovertemplate": "X1_Sq=%{x}<br>X2_Sq=%{y}<br>X1_X2=%{z}<br>Y=%{marker.color}<extra></extra>",
         "legendgroup": "",
         "marker": {
          "color": [
           0,
           0,
           0,
           0,
           0,
           0,
           0,
           0,
           0,
           0,
           0,
           0,
           0,
           0,
           0,
           0,
           0,
           0,
           0,
           0,
           0,
           0,
           0,
           0,
           0,
           0,
           0,
           0,
           0,
           0,
           0,
           0,
           0,
           0,
           0,
           0,
           0,
           0,
           0,
           0,
           0,
           0,
           0,
           0,
           0,
           0,
           0,
           0,
           0,
           0,
           0,
           0,
           0,
           0,
           0,
           0,
           0,
           0,
           0,
           0,
           0,
           0,
           0,
           0,
           0,
           0,
           0,
           0,
           0,
           0,
           0,
           0,
           0,
           0,
           0,
           0,
           0,
           0,
           0,
           0,
           0,
           0,
           0,
           0,
           0,
           0,
           0,
           0,
           0,
           0,
           0,
           0,
           0,
           0,
           0,
           0,
           0,
           0,
           0,
           0,
           0,
           0,
           0,
           0,
           0,
           0,
           0,
           0,
           0,
           0,
           0,
           0,
           0,
           0,
           0,
           0,
           0,
           0,
           0,
           0,
           0,
           0,
           0,
           0,
           0,
           0,
           0,
           0,
           0,
           0,
           0,
           0,
           0,
           0,
           0,
           0,
           0,
           0,
           0,
           0,
           0,
           0,
           0,
           0,
           0,
           0,
           0,
           0,
           0,
           0,
           0,
           0,
           0,
           0,
           0,
           0,
           0,
           0,
           0,
           0,
           0,
           0,
           0,
           0,
           0,
           0,
           0,
           0,
           0,
           0,
           0,
           0,
           0,
           0,
           0,
           0,
           0,
           0,
           0,
           0,
           0,
           0,
           0,
           0,
           0,
           0,
           0,
           0,
           0,
           0,
           0,
           0,
           0,
           0,
           0,
           0,
           0,
           0,
           0,
           0,
           1,
           1,
           1,
           1,
           1,
           1,
           1,
           1,
           1,
           1,
           1,
           1,
           1,
           1,
           1,
           1,
           1,
           1,
           1,
           1,
           1,
           1,
           1,
           1,
           1,
           1,
           1,
           1,
           1,
           1,
           1,
           1,
           1,
           1,
           1,
           1,
           1,
           1,
           1,
           1,
           1,
           1,
           1,
           1,
           1,
           1,
           1,
           1,
           1,
           1,
           1,
           1,
           1,
           1,
           1,
           1,
           1,
           1,
           1,
           1,
           1,
           1,
           1,
           1,
           1,
           1,
           1,
           1,
           1,
           1,
           1,
           1,
           1,
           1,
           1,
           1,
           1,
           1,
           1,
           1,
           1,
           1,
           1,
           1,
           1,
           1,
           1,
           1,
           1,
           1,
           1,
           1,
           1,
           1,
           1,
           1,
           1,
           1,
           1,
           1,
           1,
           1,
           1,
           1,
           1,
           1,
           1,
           1,
           1,
           1,
           1,
           1,
           1,
           1,
           1,
           1,
           1,
           1,
           1,
           1,
           1,
           1,
           1,
           1,
           1,
           1,
           1,
           1,
           1,
           1,
           1,
           1,
           1,
           1,
           1,
           1,
           1,
           1,
           1,
           1,
           1,
           1,
           1,
           1,
           1,
           1,
           1,
           1,
           1,
           1,
           1,
           1,
           1,
           1,
           1,
           1,
           1,
           1,
           1,
           1,
           1,
           1,
           1,
           1,
           1,
           1,
           1,
           1,
           1,
           1,
           1,
           1,
           1,
           1,
           1,
           1,
           1,
           1,
           1,
           1,
           1,
           1,
           1,
           1,
           1,
           1,
           1,
           1,
           1,
           1,
           1,
           1,
           1,
           1,
           1,
           1,
           1,
           1,
           1,
           1,
           1,
           1,
           1,
           1,
           1,
           1,
           1,
           1,
           1,
           1,
           1,
           1,
           1,
           1,
           1,
           1,
           1,
           1,
           1,
           1
          ],
          "coloraxis": "coloraxis",
          "symbol": "circle"
         },
         "mode": "markers",
         "name": "",
         "scene": "scene",
         "showlegend": false,
         "type": "scatter3d",
         "x": [
          0,
          3.9599999999999795,
          7.839999999999974,
          11.639999999999958,
          15.359999999999943,
          18.999999999999925,
          22.55999999999993,
          26.03999999999992,
          29.439999999999895,
          32.75999999999989,
          35.999999999999886,
          39.15999999999988,
          42.23999999999986,
          45.23999999999986,
          48.159999999999854,
          50.99999999999985,
          53.759999999999856,
          56.43999999999985,
          59.03999999999984,
          61.55999999999984,
          63.99999999999983,
          66.35999999999983,
          68.63999999999982,
          70.83999999999982,
          72.95999999999982,
          74.99999999999983,
          76.95999999999982,
          78.83999999999983,
          80.63999999999984,
          82.35999999999983,
          83.99999999999983,
          85.55999999999982,
          87.03999999999985,
          88.43999999999983,
          89.75999999999985,
          90.99999999999986,
          92.15999999999985,
          93.23999999999988,
          94.23999999999985,
          95.15999999999988,
          95.99999999999987,
          96.75999999999988,
          97.43999999999991,
          98.03999999999992,
          98.55999999999995,
          98.99999999999993,
          99.35999999999994,
          99.63999999999997,
          99.83999999999996,
          99.95999999999997,
          100,
          99.96,
          99.84000000000003,
          99.64000000000004,
          99.36000000000004,
          99.00000000000007,
          98.56000000000012,
          98.04000000000013,
          97.44000000000013,
          96.76000000000016,
          96.00000000000016,
          95.1600000000002,
          94.24000000000021,
          93.24000000000022,
          92.16000000000027,
          91.0000000000003,
          89.76000000000032,
          88.44000000000034,
          87.04000000000035,
          85.56000000000039,
          84.00000000000038,
          82.36000000000041,
          80.64000000000046,
          78.84000000000046,
          76.9600000000005,
          75.00000000000054,
          72.96000000000058,
          70.8400000000006,
          68.64000000000061,
          66.36000000000064,
          64.00000000000068,
          61.56000000000071,
          59.040000000000745,
          56.44000000000078,
          53.76000000000082,
          51.000000000000846,
          48.16000000000088,
          45.24000000000091,
          42.24000000000095,
          39.160000000000984,
          36.00000000000102,
          32.76000000000105,
          29.44000000000109,
          26.040000000001147,
          22.560000000001178,
          19.00000000000121,
          15.360000000001248,
          11.640000000001294,
          7.840000000001339,
          3.9600000000013726,
          0,
          3.9599999999999795,
          7.839999999999974,
          11.639999999999958,
          15.359999999999943,
          18.999999999999925,
          22.55999999999993,
          26.03999999999992,
          29.439999999999895,
          32.75999999999989,
          35.999999999999886,
          39.15999999999988,
          42.23999999999986,
          45.23999999999986,
          48.159999999999854,
          50.99999999999985,
          53.759999999999856,
          56.43999999999985,
          59.03999999999984,
          61.55999999999984,
          63.99999999999983,
          66.35999999999983,
          68.63999999999982,
          70.83999999999982,
          72.95999999999982,
          74.99999999999983,
          76.95999999999982,
          78.83999999999983,
          80.63999999999984,
          82.35999999999983,
          83.99999999999983,
          85.55999999999982,
          87.03999999999985,
          88.43999999999983,
          89.75999999999985,
          90.99999999999986,
          92.15999999999985,
          93.23999999999988,
          94.23999999999985,
          95.15999999999988,
          95.99999999999987,
          96.75999999999988,
          97.43999999999991,
          98.03999999999992,
          98.55999999999995,
          98.99999999999993,
          99.35999999999994,
          99.63999999999997,
          99.83999999999996,
          99.95999999999997,
          100,
          99.96,
          99.84000000000003,
          99.64000000000004,
          99.36000000000004,
          99.00000000000007,
          98.56000000000012,
          98.04000000000013,
          97.44000000000013,
          96.76000000000016,
          96.00000000000016,
          95.1600000000002,
          94.24000000000021,
          93.24000000000022,
          92.16000000000027,
          91.0000000000003,
          89.76000000000032,
          88.44000000000034,
          87.04000000000035,
          85.56000000000039,
          84.00000000000038,
          82.36000000000041,
          80.64000000000046,
          78.84000000000046,
          76.9600000000005,
          75.00000000000054,
          72.96000000000058,
          70.8400000000006,
          68.64000000000061,
          66.36000000000064,
          64.00000000000068,
          61.56000000000071,
          59.040000000000745,
          56.44000000000078,
          53.76000000000082,
          51.000000000000846,
          48.16000000000088,
          45.24000000000091,
          42.24000000000095,
          39.160000000000984,
          36.00000000000102,
          32.76000000000105,
          29.44000000000109,
          26.040000000001147,
          22.560000000001178,
          19.00000000000121,
          15.360000000001248,
          11.640000000001294,
          7.840000000001339,
          3.9600000000013726,
          279.00000000000006,
          283.36,
          287.64,
          291.84,
          295.9599999999999,
          299.99999999999994,
          303.95999999999987,
          307.8399999999999,
          311.6399999999999,
          315.35999999999996,
          318.99999999999994,
          322.5599999999999,
          326.03999999999985,
          329.4399999999998,
          332.75999999999976,
          335.99999999999983,
          339.15999999999985,
          342.23999999999984,
          345.2399999999997,
          348.1599999999998,
          350.99999999999983,
          353.7599999999999,
          356.4399999999998,
          359.0399999999998,
          361.55999999999983,
          363.99999999999983,
          366.35999999999973,
          368.6399999999997,
          370.8399999999998,
          372.9599999999998,
          374.9999999999997,
          376.95999999999987,
          378.83999999999975,
          380.6399999999998,
          382.3599999999998,
          383.9999999999998,
          385.5599999999998,
          387.0399999999998,
          388.4399999999998,
          389.7599999999998,
          390.9999999999999,
          392.15999999999985,
          393.2399999999999,
          394.2399999999998,
          395.1599999999999,
          395.99999999999983,
          396.75999999999993,
          397.4399999999999,
          398.03999999999985,
          398.5599999999999,
          398.99999999999994,
          399.36,
          399.6399999999999,
          399.84,
          399.96,
          400,
          399.96,
          399.84,
          399.64000000000004,
          399.36,
          399.0000000000001,
          398.5600000000002,
          398.04000000000013,
          397.44000000000017,
          396.7600000000002,
          396.0000000000001,
          395.1600000000002,
          394.2400000000002,
          393.2400000000002,
          392.16000000000025,
          391.00000000000034,
          389.76000000000033,
          388.4400000000004,
          387.04000000000036,
          385.56000000000034,
          384.0000000000005,
          382.36000000000047,
          380.6400000000005,
          378.84000000000043,
          376.96000000000055,
          375.00000000000057,
          372.9600000000006,
          370.8400000000006,
          368.64000000000067,
          366.3600000000007,
          364.0000000000008,
          361.5600000000008,
          359.04000000000076,
          356.4400000000009,
          353.7600000000008,
          351.00000000000085,
          348.160000000001,
          345.2400000000009,
          342.240000000001,
          339.16000000000105,
          336.000000000001,
          332.7600000000012,
          329.44000000000113,
          326.04000000000127,
          322.5600000000013,
          319.0000000000012,
          315.3600000000013,
          311.6400000000014,
          307.8400000000014,
          303.96000000000146,
          300.00000000000153,
          295.9600000000015,
          291.84000000000157,
          287.64000000000163,
          283.36000000000166,
          279.00000000000006,
          283.36,
          287.64,
          291.84,
          295.9599999999999,
          299.99999999999994,
          303.95999999999987,
          307.8399999999999,
          311.6399999999999,
          315.35999999999996,
          318.99999999999994,
          322.5599999999999,
          326.03999999999985,
          329.4399999999998,
          332.75999999999976,
          335.99999999999983,
          339.15999999999985,
          342.23999999999984,
          345.2399999999997,
          348.1599999999998,
          350.99999999999983,
          353.7599999999999,
          356.4399999999998,
          359.0399999999998,
          361.55999999999983,
          363.99999999999983,
          366.35999999999973,
          368.6399999999997,
          370.8399999999998,
          372.9599999999998,
          374.9999999999997,
          376.95999999999987,
          378.83999999999975,
          380.6399999999998,
          382.3599999999998,
          383.9999999999998,
          385.5599999999998,
          387.0399999999998,
          388.4399999999998,
          389.7599999999998,
          390.9999999999999,
          392.15999999999985,
          393.2399999999999,
          394.2399999999998,
          395.1599999999999,
          395.99999999999983,
          396.75999999999993,
          397.4399999999999,
          398.03999999999985,
          398.5599999999999,
          398.99999999999994,
          399.36,
          399.6399999999999,
          399.84,
          399.96,
          400,
          399.96,
          399.84,
          399.64000000000004,
          399.36,
          399.0000000000001,
          398.5600000000002,
          398.04000000000013,
          397.44000000000017,
          396.7600000000002,
          396.0000000000001,
          395.1600000000002,
          394.2400000000002,
          393.2400000000002,
          392.16000000000025,
          391.00000000000034,
          389.76000000000033,
          388.4400000000004,
          387.04000000000036,
          385.56000000000034,
          384.0000000000005,
          382.36000000000047,
          380.6400000000005,
          378.84000000000043,
          376.96000000000055,
          375.00000000000057,
          372.9600000000006,
          370.8400000000006,
          368.64000000000067,
          366.3600000000007,
          364.0000000000008,
          361.5600000000008,
          359.04000000000076,
          356.4400000000009,
          353.7600000000008,
          351.00000000000085,
          348.160000000001,
          345.2400000000009,
          342.240000000001,
          339.16000000000105,
          336.000000000001,
          332.7600000000012,
          329.44000000000113,
          326.04000000000127,
          322.5600000000013,
          319.0000000000012,
          315.3600000000013,
          311.6400000000014,
          307.8400000000014,
          303.96000000000146,
          300.00000000000153,
          295.9600000000015,
          291.84000000000157,
          287.64000000000163,
          283.36000000000166
         ],
         "y": [
          100,
          96.04000000000002,
          92.16000000000003,
          88.36000000000004,
          84.64000000000006,
          81.00000000000007,
          77.44000000000007,
          73.96000000000008,
          70.5600000000001,
          67.24000000000011,
          64.00000000000011,
          60.840000000000124,
          57.76000000000013,
          54.76000000000014,
          51.840000000000146,
          49.00000000000015,
          46.24000000000015,
          43.56000000000016,
          40.960000000000164,
          38.44000000000017,
          36.00000000000017,
          33.64000000000017,
          31.360000000000174,
          29.160000000000178,
          27.040000000000177,
          25.000000000000178,
          23.040000000000177,
          21.160000000000178,
          19.360000000000174,
          17.640000000000175,
          16.00000000000017,
          14.440000000000168,
          12.960000000000164,
          11.560000000000159,
          10.240000000000155,
          9.00000000000015,
          7.840000000000143,
          6.760000000000137,
          5.7600000000001295,
          4.8400000000001215,
          4.000000000000114,
          3.240000000000105,
          2.5600000000000955,
          1.9600000000000855,
          1.440000000000075,
          1.000000000000064,
          0.6400000000000523,
          0.36000000000004007,
          0.1600000000000273,
          0.04000000000001393,
          1.2621774483536189e-27,
          0.039999999999985505,
          0.15999999999997044,
          0.3599999999999548,
          0.6399999999999386,
          0.9999999999999218,
          1.4399999999999045,
          1.9599999999998865,
          2.559999999999868,
          3.2399999999998492,
          3.9999999999998295,
          4.839999999999809,
          5.759999999999788,
          6.759999999999767,
          7.839999999999745,
          8.999999999999723,
          10.2399999999997,
          11.559999999999675,
          12.959999999999653,
          14.439999999999628,
          15.999999999999602,
          17.639999999999578,
          19.35999999999955,
          21.159999999999524,
          23.039999999999495,
          24.999999999999467,
          27.039999999999438,
          29.15999999999941,
          31.359999999999378,
          33.63999999999935,
          35.99999999999932,
          38.43999999999929,
          40.959999999999255,
          43.55999999999922,
          46.239999999999185,
          48.999999999999154,
          51.83999999999912,
          54.75999999999909,
          57.75999999999905,
          60.839999999999016,
          63.99999999999898,
          67.23999999999894,
          70.55999999999891,
          73.95999999999886,
          77.43999999999882,
          80.99999999999879,
          84.63999999999875,
          88.3599999999987,
          92.15999999999866,
          96.03999999999863,
          100,
          96.04000000000002,
          92.16000000000003,
          88.36000000000004,
          84.64000000000006,
          81.00000000000007,
          77.44000000000007,
          73.96000000000008,
          70.5600000000001,
          67.24000000000011,
          64.00000000000011,
          60.840000000000124,
          57.76000000000013,
          54.76000000000014,
          51.840000000000146,
          49.00000000000015,
          46.24000000000015,
          43.56000000000016,
          40.960000000000164,
          38.44000000000017,
          36.00000000000017,
          33.64000000000017,
          31.360000000000174,
          29.160000000000178,
          27.040000000000177,
          25.000000000000178,
          23.040000000000177,
          21.160000000000178,
          19.360000000000174,
          17.640000000000175,
          16.00000000000017,
          14.440000000000168,
          12.960000000000164,
          11.560000000000159,
          10.240000000000155,
          9.00000000000015,
          7.840000000000143,
          6.760000000000137,
          5.7600000000001295,
          4.8400000000001215,
          4.000000000000114,
          3.240000000000105,
          2.5600000000000955,
          1.9600000000000855,
          1.440000000000075,
          1.000000000000064,
          0.6400000000000523,
          0.36000000000004007,
          0.1600000000000273,
          0.04000000000001393,
          1.2621774483536189e-27,
          0.039999999999985505,
          0.15999999999997044,
          0.3599999999999548,
          0.6399999999999386,
          0.9999999999999218,
          1.4399999999999045,
          1.9599999999998865,
          2.559999999999868,
          3.2399999999998492,
          3.9999999999998295,
          4.839999999999809,
          5.759999999999788,
          6.759999999999767,
          7.839999999999745,
          8.999999999999723,
          10.2399999999997,
          11.559999999999675,
          12.959999999999653,
          14.439999999999628,
          15.999999999999602,
          17.639999999999578,
          19.35999999999955,
          21.159999999999524,
          23.039999999999495,
          24.999999999999467,
          27.039999999999438,
          29.15999999999941,
          31.359999999999378,
          33.63999999999935,
          35.99999999999932,
          38.43999999999929,
          40.959999999999255,
          43.55999999999922,
          46.239999999999185,
          48.999999999999154,
          51.83999999999912,
          54.75999999999909,
          57.75999999999905,
          60.839999999999016,
          63.99999999999898,
          67.23999999999894,
          70.55999999999891,
          73.95999999999886,
          77.43999999999882,
          80.99999999999879,
          84.63999999999875,
          88.3599999999987,
          92.15999999999866,
          96.03999999999863,
          121,
          116.64000000000001,
          112.36000000000003,
          108.16000000000004,
          104.04000000000006,
          100.00000000000007,
          96.04000000000008,
          92.1600000000001,
          88.36000000000011,
          84.64000000000011,
          81.00000000000013,
          77.44000000000014,
          73.96000000000015,
          70.56000000000016,
          67.24000000000017,
          64.00000000000017,
          60.840000000000174,
          57.76000000000018,
          54.76000000000019,
          51.840000000000195,
          49.0000000000002,
          46.2400000000002,
          43.56000000000021,
          40.96000000000021,
          38.44000000000021,
          36.00000000000021,
          33.640000000000214,
          31.360000000000216,
          29.160000000000213,
          27.040000000000216,
          25.000000000000213,
          23.040000000000212,
          21.16000000000021,
          19.360000000000205,
          17.640000000000203,
          16.0000000000002,
          14.440000000000195,
          12.96000000000019,
          11.560000000000183,
          10.240000000000178,
          9.00000000000017,
          7.840000000000163,
          6.760000000000155,
          5.760000000000146,
          4.8400000000001375,
          4.000000000000128,
          3.2400000000001175,
          2.560000000000107,
          1.9600000000000954,
          1.4400000000000837,
          1.000000000000071,
          0.640000000000058,
          0.36000000000004434,
          0.16000000000003012,
          0.04000000000001535,
          1.5272347125078789e-27,
          0.03999999999998408,
          0.1599999999999676,
          0.3599999999999505,
          0.639999999999933,
          0.9999999999999147,
          1.439999999999896,
          1.9599999999998767,
          2.5599999999998566,
          3.2399999999998363,
          3.9999999999998153,
          4.839999999999794,
          5.7599999999997715,
          6.759999999999748,
          7.839999999999725,
          8.999999999999702,
          10.239999999999677,
          11.559999999999652,
          12.959999999999626,
          14.4399999999996,
          15.999999999999574,
          17.639999999999546,
          19.35999999999952,
          21.15999999999949,
          23.039999999999463,
          24.99999999999943,
          27.039999999999402,
          29.15999999999937,
          31.35999999999934,
          33.639999999999304,
          35.999999999999275,
          38.439999999999245,
          40.95999999999921,
          43.55999999999918,
          46.23999999999914,
          48.999999999999105,
          51.839999999999065,
          54.75999999999903,
          57.759999999998996,
          60.83999999999896,
          63.99999999999892,
          67.23999999999889,
          70.55999999999884,
          73.9599999999988,
          77.43999999999876,
          80.99999999999872,
          84.63999999999868,
          88.35999999999864,
          92.15999999999859,
          96.03999999999856,
          99.99999999999851,
          104.03999999999846,
          108.15999999999842,
          112.35999999999838,
          116.63999999999832,
          121,
          116.64000000000001,
          112.36000000000003,
          108.16000000000004,
          104.04000000000006,
          100.00000000000007,
          96.04000000000008,
          92.1600000000001,
          88.36000000000011,
          84.64000000000011,
          81.00000000000013,
          77.44000000000014,
          73.96000000000015,
          70.56000000000016,
          67.24000000000017,
          64.00000000000017,
          60.840000000000174,
          57.76000000000018,
          54.76000000000019,
          51.840000000000195,
          49.0000000000002,
          46.2400000000002,
          43.56000000000021,
          40.96000000000021,
          38.44000000000021,
          36.00000000000021,
          33.640000000000214,
          31.360000000000216,
          29.160000000000213,
          27.040000000000216,
          25.000000000000213,
          23.040000000000212,
          21.16000000000021,
          19.360000000000205,
          17.640000000000203,
          16.0000000000002,
          14.440000000000195,
          12.96000000000019,
          11.560000000000183,
          10.240000000000178,
          9.00000000000017,
          7.840000000000163,
          6.760000000000155,
          5.760000000000146,
          4.8400000000001375,
          4.000000000000128,
          3.2400000000001175,
          2.560000000000107,
          1.9600000000000954,
          1.4400000000000837,
          1.000000000000071,
          0.640000000000058,
          0.36000000000004434,
          0.16000000000003012,
          0.04000000000001535,
          1.5272347125078789e-27,
          0.03999999999998408,
          0.1599999999999676,
          0.3599999999999505,
          0.639999999999933,
          0.9999999999999147,
          1.439999999999896,
          1.9599999999998767,
          2.5599999999998566,
          3.2399999999998363,
          3.9999999999998153,
          4.839999999999794,
          5.7599999999997715,
          6.759999999999748,
          7.839999999999725,
          8.999999999999702,
          10.239999999999677,
          11.559999999999652,
          12.959999999999626,
          14.4399999999996,
          15.999999999999574,
          17.639999999999546,
          19.35999999999952,
          21.15999999999949,
          23.039999999999463,
          24.99999999999943,
          27.039999999999402,
          29.15999999999937,
          31.35999999999934,
          33.639999999999304,
          35.999999999999275,
          38.439999999999245,
          40.95999999999921,
          43.55999999999918,
          46.23999999999914,
          48.999999999999105,
          51.839999999999065,
          54.75999999999903,
          57.759999999998996,
          60.83999999999896,
          63.99999999999892,
          67.23999999999889,
          70.55999999999884,
          73.9599999999988,
          77.43999999999876,
          80.99999999999872,
          84.63999999999868,
          88.35999999999864,
          92.15999999999859,
          96.03999999999856,
          99.99999999999851,
          104.03999999999846,
          108.15999999999842,
          112.35999999999838,
          116.63999999999832
         ],
         "z": [
          0,
          -19.501753767289703,
          -26.87999999999996,
          -32.070397565356075,
          -36.05648901376833,
          -39.230090491866,
          -41.79768414637343,
          -43.88528682827533,
          -45.57725748660175,
          -46.93380870971369,
          -47.999999999999964,
          -48.81080208314546,
          -49.39415350018661,
          -49.77290829356868,
          -49.966132529944716,
          -49.98999899979995,
          -49.85842356111956,
          -49.583529523421404,
          -49.17599414348431,
          -48.64531220991396,
          -48.00000000000005,
          -47.24775550224588,
          -46.39558599694594,
          -45.449910891001835,
          -44.416645528450346,
          -43.30127018922204,
          -42.10888742296583,
          -40.84427009997865,
          -39.51190200433296,
          -38.11601238324926,
          -36.660605559646875,
          -35.14948648273559,
          -33.586282914309116,
          -31.974464811783985,
          -30.317361362757353,
          -28.618176042508583,
          -26.880000000000226,
          -25.105824025512725,
          -23.298549311062512,
          -21.460997180932928,
          -19.59591794226569,
          -17.705998983395705,
          -15.793872229444212,
          -13.862121049825248,
          -11.913286700151529,
          -9.949874371066514,
          -7.974358908401675,
          -5.989190262464867,
          -3.996798718975315,
          -1.9995999599923457,
          -3.552713678800501e-13,
          1.9995999599916356,
          3.9967987189746066,
          5.9891902624641595,
          7.974358908400971,
          9.949874371065814,
          11.913286700150834,
          13.862121049824559,
          15.793872229443528,
          17.705998983395034,
          19.59591794226502,
          21.46099718093227,
          23.298549311061862,
          25.105824025512085,
          26.8799999999996,
          28.618176042507976,
          30.31736136275676,
          31.974464811783406,
          33.58628291430855,
          35.14948648273504,
          36.66060555964635,
          38.11601238324875,
          39.51190200433247,
          40.84427009997819,
          42.10888742296539,
          43.301270189221626,
          44.41664552844997,
          45.44991089100149,
          46.39558599694562,
          47.24775550224559,
          47.9999999999998,
          48.64531220991375,
          49.17599414348414,
          49.583529523421284,
          49.85842356111948,
          49.98999899979993,
          49.96613252994475,
          49.77290829356878,
          49.39415350018679,
          48.8108020831457,
          48.0000000000003,
          46.93380870971411,
          45.57725748660229,
          43.885286828276,
          41.797684146374245,
          39.23009049186702,
          36.05648901376958,
          32.07039756535767,
          26.880000000002102,
          19.50175376729299,
          0,
          19.501753767289703,
          26.87999999999996,
          32.070397565356075,
          36.05648901376833,
          39.230090491866,
          41.79768414637343,
          43.88528682827533,
          45.57725748660175,
          46.93380870971369,
          47.999999999999964,
          48.81080208314546,
          49.39415350018661,
          49.77290829356868,
          49.966132529944716,
          49.98999899979995,
          49.85842356111956,
          49.583529523421404,
          49.17599414348431,
          48.64531220991396,
          48.00000000000005,
          47.24775550224588,
          46.39558599694594,
          45.449910891001835,
          44.416645528450346,
          43.30127018922204,
          42.10888742296583,
          40.84427009997865,
          39.51190200433296,
          38.11601238324926,
          36.660605559646875,
          35.14948648273559,
          33.586282914309116,
          31.974464811783985,
          30.317361362757353,
          28.618176042508583,
          26.880000000000226,
          25.105824025512725,
          23.298549311062512,
          21.460997180932928,
          19.59591794226569,
          17.705998983395705,
          15.793872229444212,
          13.862121049825248,
          11.913286700151529,
          9.949874371066514,
          7.974358908401675,
          5.989190262464867,
          3.996798718975315,
          1.9995999599923457,
          3.552713678800501e-13,
          -1.9995999599916356,
          -3.9967987189746066,
          -5.9891902624641595,
          -7.974358908400971,
          -9.949874371065814,
          -11.913286700150834,
          -13.862121049824559,
          -15.793872229443528,
          -17.705998983395034,
          -19.59591794226502,
          -21.46099718093227,
          -23.298549311061862,
          -25.105824025512085,
          -26.8799999999996,
          -28.618176042507976,
          -30.31736136275676,
          -31.974464811783406,
          -33.58628291430855,
          -35.14948648273504,
          -36.66060555964635,
          -38.11601238324875,
          -39.51190200433247,
          -40.84427009997819,
          -42.10888742296539,
          -43.301270189221626,
          -44.41664552844997,
          -45.44991089100149,
          -46.39558599694562,
          -47.24775550224559,
          -47.9999999999998,
          -48.64531220991375,
          -49.17599414348414,
          -49.583529523421284,
          -49.85842356111948,
          -49.98999899979993,
          -49.96613252994475,
          -49.77290829356878,
          -49.39415350018679,
          -48.8108020831457,
          -48.0000000000003,
          -46.93380870971411,
          -45.57725748660229,
          -43.885286828276,
          -41.797684146374245,
          -39.23009049186702,
          -36.05648901376958,
          -32.07039756535767,
          -26.880000000002102,
          -19.50175376729299,
          -183.73622397339074,
          -181.79964356400703,
          -179.7754999993047,
          -177.66658211380104,
          -175.4755777879076,
          -173.20508075688778,
          -170.8575968460285,
          -168.43554969186292,
          -165.94128600200742,
          -163.3770803999142,
          -160.74513989542587,
          -158.04760801733138,
          -155.28656864004702,
          -152.4640495329966,
          -149.58202565816535,
          -146.64242223858705,
          -143.64711761814107,
          -140.59794593094188,
          -137.49669959675415,
          -134.34513165723592,
          -131.1449579663666,
          -127.89785924713543,
          -124.60548302542736,
          -121.26944545102887,
          -117.89133301477284,
          -114.4727041700338,
          -111.0150908660623,
          -107.52000000000032,
          -103.98891479383788,
          -100.42329610205032,
          -96.8245836551858,
          -93.19419724424947,
          -89.5335378503501,
          -85.84398872373112,
          -82.12691641599649,
          -78.38367176906216,
          -74.61559086410877,
          -70.82399593358222,
          -67.01019623908043,
          -63.17548891777623,
          -59.32115979985612,
          -55.44848419930037,
          -51.55872768019068,
          -47.653146800605484,
          -43.73298983605002,
          -39.79949748426543,
          -35.85390355317042,
          -31.89743563360607,
          -27.931315758482228,
          -23.95676104985883,
          -19.974984355438888,
          -15.987194875900624,
          -11.994598784453679,
          -7.998399839968745,
          -3.9997999950005174,
          -7.815970093361102e-13,
          3.9997999949989542,
          7.998399839967182,
          11.99459878445212,
          15.987194875899062,
          19.97498435543733,
          23.956761049857278,
          27.93131575848068,
          31.897435633604523,
          35.85390355316888,
          39.79949748426389,
          43.732989836048475,
          47.653146800603956,
          51.55872768018914,
          55.44848419929885,
          59.321159799854605,
          63.17548891777473,
          67.01019623907894,
          70.82399593358073,
          74.61559086410729,
          78.38367176906071,
          82.12691641599504,
          85.84398872372967,
          89.53353785034867,
          93.19419724424804,
          96.8245836551844,
          100.42329610204892,
          103.98891479383649,
          107.51999999999896,
          111.01509086606094,
          114.47270417003244,
          117.89133301477152,
          121.26944545102755,
          124.60548302542607,
          127.89785924713414,
          131.14495796636533,
          134.3451316572347,
          137.49669959675293,
          140.59794593094065,
          143.64711761813987,
          146.64242223858585,
          149.58202565816424,
          152.4640495329955,
          155.28656864004594,
          158.04760801733033,
          160.7451398954248,
          163.37708039991318,
          165.94128600200645,
          168.43554969186195,
          170.8575968460276,
          173.20508075688687,
          175.47557778790673,
          177.6665821138002,
          179.7754999993039,
          181.79964356400626,
          183.73622397339074,
          181.79964356400703,
          179.7754999993047,
          177.66658211380104,
          175.4755777879076,
          173.20508075688778,
          170.8575968460285,
          168.43554969186292,
          165.94128600200742,
          163.3770803999142,
          160.74513989542587,
          158.04760801733138,
          155.28656864004702,
          152.4640495329966,
          149.58202565816535,
          146.64242223858705,
          143.64711761814107,
          140.59794593094188,
          137.49669959675415,
          134.34513165723592,
          131.1449579663666,
          127.89785924713543,
          124.60548302542736,
          121.26944545102887,
          117.89133301477284,
          114.4727041700338,
          111.0150908660623,
          107.52000000000032,
          103.98891479383788,
          100.42329610205032,
          96.8245836551858,
          93.19419724424947,
          89.5335378503501,
          85.84398872373112,
          82.12691641599649,
          78.38367176906216,
          74.61559086410877,
          70.82399593358222,
          67.01019623908043,
          63.17548891777623,
          59.32115979985612,
          55.44848419930037,
          51.55872768019068,
          47.653146800605484,
          43.73298983605002,
          39.79949748426543,
          35.85390355317042,
          31.89743563360607,
          27.931315758482228,
          23.95676104985883,
          19.974984355438888,
          15.987194875900624,
          11.994598784453679,
          7.998399839968745,
          3.9997999950005174,
          7.815970093361102e-13,
          -3.9997999949989542,
          -7.998399839967182,
          -11.99459878445212,
          -15.987194875899062,
          -19.97498435543733,
          -23.956761049857278,
          -27.93131575848068,
          -31.897435633604523,
          -35.85390355316888,
          -39.79949748426389,
          -43.732989836048475,
          -47.653146800603956,
          -51.55872768018914,
          -55.44848419929885,
          -59.321159799854605,
          -63.17548891777473,
          -67.01019623907894,
          -70.82399593358073,
          -74.61559086410729,
          -78.38367176906071,
          -82.12691641599504,
          -85.84398872372967,
          -89.53353785034867,
          -93.19419724424804,
          -96.8245836551844,
          -100.42329610204892,
          -103.98891479383649,
          -107.51999999999896,
          -111.01509086606094,
          -114.47270417003244,
          -117.89133301477152,
          -121.26944545102755,
          -124.60548302542607,
          -127.89785924713414,
          -131.14495796636533,
          -134.3451316572347,
          -137.49669959675293,
          -140.59794593094065,
          -143.64711761813987,
          -146.64242223858585,
          -149.58202565816424,
          -152.4640495329955,
          -155.28656864004594,
          -158.04760801733033,
          -160.7451398954248,
          -163.37708039991318,
          -165.94128600200645,
          -168.43554969186195,
          -170.8575968460276,
          -173.20508075688687,
          -175.47557778790673,
          -177.6665821138002,
          -179.7754999993039,
          -181.79964356400626
         ]
        }
       ],
       "layout": {
        "coloraxis": {
         "colorbar": {
          "title": {
           "text": "Y"
          }
         },
         "colorscale": [
          [
           0,
           "#0d0887"
          ],
          [
           0.1111111111111111,
           "#46039f"
          ],
          [
           0.2222222222222222,
           "#7201a8"
          ],
          [
           0.3333333333333333,
           "#9c179e"
          ],
          [
           0.4444444444444444,
           "#bd3786"
          ],
          [
           0.5555555555555556,
           "#d8576b"
          ],
          [
           0.6666666666666666,
           "#ed7953"
          ],
          [
           0.7777777777777778,
           "#fb9f3a"
          ],
          [
           0.8888888888888888,
           "#fdca26"
          ],
          [
           1,
           "#f0f921"
          ]
         ]
        },
        "legend": {
         "tracegroupgap": 0
        },
        "margin": {
         "t": 60
        },
        "scene": {
         "domain": {
          "x": [
           0,
           1
          ],
          "y": [
           0,
           1
          ]
         },
         "xaxis": {
          "title": {
           "text": "X1_Sq"
          }
         },
         "yaxis": {
          "title": {
           "text": "X2_Sq"
          }
         },
         "zaxis": {
          "title": {
           "text": "X1_X2"
          }
         }
        },
        "template": {
         "data": {
          "bar": [
           {
            "error_x": {
             "color": "#2a3f5f"
            },
            "error_y": {
             "color": "#2a3f5f"
            },
            "marker": {
             "line": {
              "color": "#E5ECF6",
              "width": 0.5
             },
             "pattern": {
              "fillmode": "overlay",
              "size": 10,
              "solidity": 0.2
             }
            },
            "type": "bar"
           }
          ],
          "barpolar": [
           {
            "marker": {
             "line": {
              "color": "#E5ECF6",
              "width": 0.5
             },
             "pattern": {
              "fillmode": "overlay",
              "size": 10,
              "solidity": 0.2
             }
            },
            "type": "barpolar"
           }
          ],
          "carpet": [
           {
            "aaxis": {
             "endlinecolor": "#2a3f5f",
             "gridcolor": "white",
             "linecolor": "white",
             "minorgridcolor": "white",
             "startlinecolor": "#2a3f5f"
            },
            "baxis": {
             "endlinecolor": "#2a3f5f",
             "gridcolor": "white",
             "linecolor": "white",
             "minorgridcolor": "white",
             "startlinecolor": "#2a3f5f"
            },
            "type": "carpet"
           }
          ],
          "choropleth": [
           {
            "colorbar": {
             "outlinewidth": 0,
             "ticks": ""
            },
            "type": "choropleth"
           }
          ],
          "contour": [
           {
            "colorbar": {
             "outlinewidth": 0,
             "ticks": ""
            },
            "colorscale": [
             [
              0,
              "#0d0887"
             ],
             [
              0.1111111111111111,
              "#46039f"
             ],
             [
              0.2222222222222222,
              "#7201a8"
             ],
             [
              0.3333333333333333,
              "#9c179e"
             ],
             [
              0.4444444444444444,
              "#bd3786"
             ],
             [
              0.5555555555555556,
              "#d8576b"
             ],
             [
              0.6666666666666666,
              "#ed7953"
             ],
             [
              0.7777777777777778,
              "#fb9f3a"
             ],
             [
              0.8888888888888888,
              "#fdca26"
             ],
             [
              1,
              "#f0f921"
             ]
            ],
            "type": "contour"
           }
          ],
          "contourcarpet": [
           {
            "colorbar": {
             "outlinewidth": 0,
             "ticks": ""
            },
            "type": "contourcarpet"
           }
          ],
          "heatmap": [
           {
            "colorbar": {
             "outlinewidth": 0,
             "ticks": ""
            },
            "colorscale": [
             [
              0,
              "#0d0887"
             ],
             [
              0.1111111111111111,
              "#46039f"
             ],
             [
              0.2222222222222222,
              "#7201a8"
             ],
             [
              0.3333333333333333,
              "#9c179e"
             ],
             [
              0.4444444444444444,
              "#bd3786"
             ],
             [
              0.5555555555555556,
              "#d8576b"
             ],
             [
              0.6666666666666666,
              "#ed7953"
             ],
             [
              0.7777777777777778,
              "#fb9f3a"
             ],
             [
              0.8888888888888888,
              "#fdca26"
             ],
             [
              1,
              "#f0f921"
             ]
            ],
            "type": "heatmap"
           }
          ],
          "heatmapgl": [
           {
            "colorbar": {
             "outlinewidth": 0,
             "ticks": ""
            },
            "colorscale": [
             [
              0,
              "#0d0887"
             ],
             [
              0.1111111111111111,
              "#46039f"
             ],
             [
              0.2222222222222222,
              "#7201a8"
             ],
             [
              0.3333333333333333,
              "#9c179e"
             ],
             [
              0.4444444444444444,
              "#bd3786"
             ],
             [
              0.5555555555555556,
              "#d8576b"
             ],
             [
              0.6666666666666666,
              "#ed7953"
             ],
             [
              0.7777777777777778,
              "#fb9f3a"
             ],
             [
              0.8888888888888888,
              "#fdca26"
             ],
             [
              1,
              "#f0f921"
             ]
            ],
            "type": "heatmapgl"
           }
          ],
          "histogram": [
           {
            "marker": {
             "pattern": {
              "fillmode": "overlay",
              "size": 10,
              "solidity": 0.2
             }
            },
            "type": "histogram"
           }
          ],
          "histogram2d": [
           {
            "colorbar": {
             "outlinewidth": 0,
             "ticks": ""
            },
            "colorscale": [
             [
              0,
              "#0d0887"
             ],
             [
              0.1111111111111111,
              "#46039f"
             ],
             [
              0.2222222222222222,
              "#7201a8"
             ],
             [
              0.3333333333333333,
              "#9c179e"
             ],
             [
              0.4444444444444444,
              "#bd3786"
             ],
             [
              0.5555555555555556,
              "#d8576b"
             ],
             [
              0.6666666666666666,
              "#ed7953"
             ],
             [
              0.7777777777777778,
              "#fb9f3a"
             ],
             [
              0.8888888888888888,
              "#fdca26"
             ],
             [
              1,
              "#f0f921"
             ]
            ],
            "type": "histogram2d"
           }
          ],
          "histogram2dcontour": [
           {
            "colorbar": {
             "outlinewidth": 0,
             "ticks": ""
            },
            "colorscale": [
             [
              0,
              "#0d0887"
             ],
             [
              0.1111111111111111,
              "#46039f"
             ],
             [
              0.2222222222222222,
              "#7201a8"
             ],
             [
              0.3333333333333333,
              "#9c179e"
             ],
             [
              0.4444444444444444,
              "#bd3786"
             ],
             [
              0.5555555555555556,
              "#d8576b"
             ],
             [
              0.6666666666666666,
              "#ed7953"
             ],
             [
              0.7777777777777778,
              "#fb9f3a"
             ],
             [
              0.8888888888888888,
              "#fdca26"
             ],
             [
              1,
              "#f0f921"
             ]
            ],
            "type": "histogram2dcontour"
           }
          ],
          "mesh3d": [
           {
            "colorbar": {
             "outlinewidth": 0,
             "ticks": ""
            },
            "type": "mesh3d"
           }
          ],
          "parcoords": [
           {
            "line": {
             "colorbar": {
              "outlinewidth": 0,
              "ticks": ""
             }
            },
            "type": "parcoords"
           }
          ],
          "pie": [
           {
            "automargin": true,
            "type": "pie"
           }
          ],
          "scatter": [
           {
            "marker": {
             "colorbar": {
              "outlinewidth": 0,
              "ticks": ""
             }
            },
            "type": "scatter"
           }
          ],
          "scatter3d": [
           {
            "line": {
             "colorbar": {
              "outlinewidth": 0,
              "ticks": ""
             }
            },
            "marker": {
             "colorbar": {
              "outlinewidth": 0,
              "ticks": ""
             }
            },
            "type": "scatter3d"
           }
          ],
          "scattercarpet": [
           {
            "marker": {
             "colorbar": {
              "outlinewidth": 0,
              "ticks": ""
             }
            },
            "type": "scattercarpet"
           }
          ],
          "scattergeo": [
           {
            "marker": {
             "colorbar": {
              "outlinewidth": 0,
              "ticks": ""
             }
            },
            "type": "scattergeo"
           }
          ],
          "scattergl": [
           {
            "marker": {
             "colorbar": {
              "outlinewidth": 0,
              "ticks": ""
             }
            },
            "type": "scattergl"
           }
          ],
          "scattermapbox": [
           {
            "marker": {
             "colorbar": {
              "outlinewidth": 0,
              "ticks": ""
             }
            },
            "type": "scattermapbox"
           }
          ],
          "scatterpolar": [
           {
            "marker": {
             "colorbar": {
              "outlinewidth": 0,
              "ticks": ""
             }
            },
            "type": "scatterpolar"
           }
          ],
          "scatterpolargl": [
           {
            "marker": {
             "colorbar": {
              "outlinewidth": 0,
              "ticks": ""
             }
            },
            "type": "scatterpolargl"
           }
          ],
          "scatterternary": [
           {
            "marker": {
             "colorbar": {
              "outlinewidth": 0,
              "ticks": ""
             }
            },
            "type": "scatterternary"
           }
          ],
          "surface": [
           {
            "colorbar": {
             "outlinewidth": 0,
             "ticks": ""
            },
            "colorscale": [
             [
              0,
              "#0d0887"
             ],
             [
              0.1111111111111111,
              "#46039f"
             ],
             [
              0.2222222222222222,
              "#7201a8"
             ],
             [
              0.3333333333333333,
              "#9c179e"
             ],
             [
              0.4444444444444444,
              "#bd3786"
             ],
             [
              0.5555555555555556,
              "#d8576b"
             ],
             [
              0.6666666666666666,
              "#ed7953"
             ],
             [
              0.7777777777777778,
              "#fb9f3a"
             ],
             [
              0.8888888888888888,
              "#fdca26"
             ],
             [
              1,
              "#f0f921"
             ]
            ],
            "type": "surface"
           }
          ],
          "table": [
           {
            "cells": {
             "fill": {
              "color": "#EBF0F8"
             },
             "line": {
              "color": "white"
             }
            },
            "header": {
             "fill": {
              "color": "#C8D4E3"
             },
             "line": {
              "color": "white"
             }
            },
            "type": "table"
           }
          ]
         },
         "layout": {
          "annotationdefaults": {
           "arrowcolor": "#2a3f5f",
           "arrowhead": 0,
           "arrowwidth": 1
          },
          "autotypenumbers": "strict",
          "coloraxis": {
           "colorbar": {
            "outlinewidth": 0,
            "ticks": ""
           }
          },
          "colorscale": {
           "diverging": [
            [
             0,
             "#8e0152"
            ],
            [
             0.1,
             "#c51b7d"
            ],
            [
             0.2,
             "#de77ae"
            ],
            [
             0.3,
             "#f1b6da"
            ],
            [
             0.4,
             "#fde0ef"
            ],
            [
             0.5,
             "#f7f7f7"
            ],
            [
             0.6,
             "#e6f5d0"
            ],
            [
             0.7,
             "#b8e186"
            ],
            [
             0.8,
             "#7fbc41"
            ],
            [
             0.9,
             "#4d9221"
            ],
            [
             1,
             "#276419"
            ]
           ],
           "sequential": [
            [
             0,
             "#0d0887"
            ],
            [
             0.1111111111111111,
             "#46039f"
            ],
            [
             0.2222222222222222,
             "#7201a8"
            ],
            [
             0.3333333333333333,
             "#9c179e"
            ],
            [
             0.4444444444444444,
             "#bd3786"
            ],
            [
             0.5555555555555556,
             "#d8576b"
            ],
            [
             0.6666666666666666,
             "#ed7953"
            ],
            [
             0.7777777777777778,
             "#fb9f3a"
            ],
            [
             0.8888888888888888,
             "#fdca26"
            ],
            [
             1,
             "#f0f921"
            ]
           ],
           "sequentialminus": [
            [
             0,
             "#0d0887"
            ],
            [
             0.1111111111111111,
             "#46039f"
            ],
            [
             0.2222222222222222,
             "#7201a8"
            ],
            [
             0.3333333333333333,
             "#9c179e"
            ],
            [
             0.4444444444444444,
             "#bd3786"
            ],
            [
             0.5555555555555556,
             "#d8576b"
            ],
            [
             0.6666666666666666,
             "#ed7953"
            ],
            [
             0.7777777777777778,
             "#fb9f3a"
            ],
            [
             0.8888888888888888,
             "#fdca26"
            ],
            [
             1,
             "#f0f921"
            ]
           ]
          },
          "colorway": [
           "#636efa",
           "#EF553B",
           "#00cc96",
           "#ab63fa",
           "#FFA15A",
           "#19d3f3",
           "#FF6692",
           "#B6E880",
           "#FF97FF",
           "#FECB52"
          ],
          "font": {
           "color": "#2a3f5f"
          },
          "geo": {
           "bgcolor": "white",
           "lakecolor": "white",
           "landcolor": "#E5ECF6",
           "showlakes": true,
           "showland": true,
           "subunitcolor": "white"
          },
          "hoverlabel": {
           "align": "left"
          },
          "hovermode": "closest",
          "mapbox": {
           "style": "light"
          },
          "paper_bgcolor": "white",
          "plot_bgcolor": "#E5ECF6",
          "polar": {
           "angularaxis": {
            "gridcolor": "white",
            "linecolor": "white",
            "ticks": ""
           },
           "bgcolor": "#E5ECF6",
           "radialaxis": {
            "gridcolor": "white",
            "linecolor": "white",
            "ticks": ""
           }
          },
          "scene": {
           "xaxis": {
            "backgroundcolor": "#E5ECF6",
            "gridcolor": "white",
            "gridwidth": 2,
            "linecolor": "white",
            "showbackground": true,
            "ticks": "",
            "zerolinecolor": "white"
           },
           "yaxis": {
            "backgroundcolor": "#E5ECF6",
            "gridcolor": "white",
            "gridwidth": 2,
            "linecolor": "white",
            "showbackground": true,
            "ticks": "",
            "zerolinecolor": "white"
           },
           "zaxis": {
            "backgroundcolor": "#E5ECF6",
            "gridcolor": "white",
            "gridwidth": 2,
            "linecolor": "white",
            "showbackground": true,
            "ticks": "",
            "zerolinecolor": "white"
           }
          },
          "shapedefaults": {
           "line": {
            "color": "#2a3f5f"
           }
          },
          "ternary": {
           "aaxis": {
            "gridcolor": "white",
            "linecolor": "white",
            "ticks": ""
           },
           "baxis": {
            "gridcolor": "white",
            "linecolor": "white",
            "ticks": ""
           },
           "bgcolor": "#E5ECF6",
           "caxis": {
            "gridcolor": "white",
            "linecolor": "white",
            "ticks": ""
           }
          },
          "title": {
           "x": 0.05
          },
          "xaxis": {
           "automargin": true,
           "gridcolor": "white",
           "linecolor": "white",
           "ticks": "",
           "title": {
            "standoff": 15
           },
           "zerolinecolor": "white",
           "zerolinewidth": 2
          },
          "yaxis": {
           "automargin": true,
           "gridcolor": "white",
           "linecolor": "white",
           "ticks": "",
           "title": {
            "standoff": 15
           },
           "zerolinecolor": "white",
           "zerolinewidth": 2
          }
         }
        }
       }
      },
      "text/html": [
       "<div>                            <div id=\"0dda234f-b786-475b-b93e-76ae91bddb0c\" class=\"plotly-graph-div\" style=\"height:525px; width:100%;\"></div>            <script type=\"text/javascript\">                require([\"plotly\"], function(Plotly) {                    window.PLOTLYENV=window.PLOTLYENV || {};                                    if (document.getElementById(\"0dda234f-b786-475b-b93e-76ae91bddb0c\")) {                    Plotly.newPlot(                        \"0dda234f-b786-475b-b93e-76ae91bddb0c\",                        [{\"hovertemplate\":\"X1_Sq=%{x}<br>X2_Sq=%{y}<br>X1_X2=%{z}<br>Y=%{marker.color}<extra></extra>\",\"legendgroup\":\"\",\"marker\":{\"color\":[0,0,0,0,0,0,0,0,0,0,0,0,0,0,0,0,0,0,0,0,0,0,0,0,0,0,0,0,0,0,0,0,0,0,0,0,0,0,0,0,0,0,0,0,0,0,0,0,0,0,0,0,0,0,0,0,0,0,0,0,0,0,0,0,0,0,0,0,0,0,0,0,0,0,0,0,0,0,0,0,0,0,0,0,0,0,0,0,0,0,0,0,0,0,0,0,0,0,0,0,0,0,0,0,0,0,0,0,0,0,0,0,0,0,0,0,0,0,0,0,0,0,0,0,0,0,0,0,0,0,0,0,0,0,0,0,0,0,0,0,0,0,0,0,0,0,0,0,0,0,0,0,0,0,0,0,0,0,0,0,0,0,0,0,0,0,0,0,0,0,0,0,0,0,0,0,0,0,0,0,0,0,0,0,0,0,0,0,0,0,0,0,0,0,0,0,0,0,0,0,1,1,1,1,1,1,1,1,1,1,1,1,1,1,1,1,1,1,1,1,1,1,1,1,1,1,1,1,1,1,1,1,1,1,1,1,1,1,1,1,1,1,1,1,1,1,1,1,1,1,1,1,1,1,1,1,1,1,1,1,1,1,1,1,1,1,1,1,1,1,1,1,1,1,1,1,1,1,1,1,1,1,1,1,1,1,1,1,1,1,1,1,1,1,1,1,1,1,1,1,1,1,1,1,1,1,1,1,1,1,1,1,1,1,1,1,1,1,1,1,1,1,1,1,1,1,1,1,1,1,1,1,1,1,1,1,1,1,1,1,1,1,1,1,1,1,1,1,1,1,1,1,1,1,1,1,1,1,1,1,1,1,1,1,1,1,1,1,1,1,1,1,1,1,1,1,1,1,1,1,1,1,1,1,1,1,1,1,1,1,1,1,1,1,1,1,1,1,1,1,1,1,1,1,1,1,1,1,1,1,1,1,1,1,1,1,1,1,1,1],\"coloraxis\":\"coloraxis\",\"symbol\":\"circle\"},\"mode\":\"markers\",\"name\":\"\",\"scene\":\"scene\",\"showlegend\":false,\"x\":[0.0,3.9599999999999795,7.839999999999974,11.639999999999958,15.359999999999943,18.999999999999925,22.55999999999993,26.03999999999992,29.439999999999895,32.75999999999989,35.999999999999886,39.15999999999988,42.23999999999986,45.23999999999986,48.159999999999854,50.99999999999985,53.759999999999856,56.43999999999985,59.03999999999984,61.55999999999984,63.99999999999983,66.35999999999983,68.63999999999982,70.83999999999982,72.95999999999982,74.99999999999983,76.95999999999982,78.83999999999983,80.63999999999984,82.35999999999983,83.99999999999983,85.55999999999982,87.03999999999985,88.43999999999983,89.75999999999985,90.99999999999986,92.15999999999985,93.23999999999988,94.23999999999985,95.15999999999988,95.99999999999987,96.75999999999988,97.43999999999991,98.03999999999992,98.55999999999995,98.99999999999993,99.35999999999994,99.63999999999997,99.83999999999996,99.95999999999997,100.0,99.96,99.84000000000003,99.64000000000004,99.36000000000004,99.00000000000007,98.56000000000012,98.04000000000013,97.44000000000013,96.76000000000016,96.00000000000016,95.1600000000002,94.24000000000021,93.24000000000022,92.16000000000027,91.0000000000003,89.76000000000032,88.44000000000034,87.04000000000035,85.56000000000039,84.00000000000038,82.36000000000041,80.64000000000046,78.84000000000046,76.9600000000005,75.00000000000054,72.96000000000058,70.8400000000006,68.64000000000061,66.36000000000064,64.00000000000068,61.56000000000071,59.040000000000745,56.44000000000078,53.76000000000082,51.000000000000846,48.16000000000088,45.24000000000091,42.24000000000095,39.160000000000984,36.00000000000102,32.76000000000105,29.44000000000109,26.040000000001147,22.560000000001178,19.00000000000121,15.360000000001248,11.640000000001294,7.840000000001339,3.9600000000013726,0.0,3.9599999999999795,7.839999999999974,11.639999999999958,15.359999999999943,18.999999999999925,22.55999999999993,26.03999999999992,29.439999999999895,32.75999999999989,35.999999999999886,39.15999999999988,42.23999999999986,45.23999999999986,48.159999999999854,50.99999999999985,53.759999999999856,56.43999999999985,59.03999999999984,61.55999999999984,63.99999999999983,66.35999999999983,68.63999999999982,70.83999999999982,72.95999999999982,74.99999999999983,76.95999999999982,78.83999999999983,80.63999999999984,82.35999999999983,83.99999999999983,85.55999999999982,87.03999999999985,88.43999999999983,89.75999999999985,90.99999999999986,92.15999999999985,93.23999999999988,94.23999999999985,95.15999999999988,95.99999999999987,96.75999999999988,97.43999999999991,98.03999999999992,98.55999999999995,98.99999999999993,99.35999999999994,99.63999999999997,99.83999999999996,99.95999999999997,100.0,99.96,99.84000000000003,99.64000000000004,99.36000000000004,99.00000000000007,98.56000000000012,98.04000000000013,97.44000000000013,96.76000000000016,96.00000000000016,95.1600000000002,94.24000000000021,93.24000000000022,92.16000000000027,91.0000000000003,89.76000000000032,88.44000000000034,87.04000000000035,85.56000000000039,84.00000000000038,82.36000000000041,80.64000000000046,78.84000000000046,76.9600000000005,75.00000000000054,72.96000000000058,70.8400000000006,68.64000000000061,66.36000000000064,64.00000000000068,61.56000000000071,59.040000000000745,56.44000000000078,53.76000000000082,51.000000000000846,48.16000000000088,45.24000000000091,42.24000000000095,39.160000000000984,36.00000000000102,32.76000000000105,29.44000000000109,26.040000000001147,22.560000000001178,19.00000000000121,15.360000000001248,11.640000000001294,7.840000000001339,3.9600000000013726,279.00000000000006,283.36,287.64,291.84,295.9599999999999,299.99999999999994,303.95999999999987,307.8399999999999,311.6399999999999,315.35999999999996,318.99999999999994,322.5599999999999,326.03999999999985,329.4399999999998,332.75999999999976,335.99999999999983,339.15999999999985,342.23999999999984,345.2399999999997,348.1599999999998,350.99999999999983,353.7599999999999,356.4399999999998,359.0399999999998,361.55999999999983,363.99999999999983,366.35999999999973,368.6399999999997,370.8399999999998,372.9599999999998,374.9999999999997,376.95999999999987,378.83999999999975,380.6399999999998,382.3599999999998,383.9999999999998,385.5599999999998,387.0399999999998,388.4399999999998,389.7599999999998,390.9999999999999,392.15999999999985,393.2399999999999,394.2399999999998,395.1599999999999,395.99999999999983,396.75999999999993,397.4399999999999,398.03999999999985,398.5599999999999,398.99999999999994,399.36,399.6399999999999,399.84,399.96,400.0,399.96,399.84,399.64000000000004,399.36,399.0000000000001,398.5600000000002,398.04000000000013,397.44000000000017,396.7600000000002,396.0000000000001,395.1600000000002,394.2400000000002,393.2400000000002,392.16000000000025,391.00000000000034,389.76000000000033,388.4400000000004,387.04000000000036,385.56000000000034,384.0000000000005,382.36000000000047,380.6400000000005,378.84000000000043,376.96000000000055,375.00000000000057,372.9600000000006,370.8400000000006,368.64000000000067,366.3600000000007,364.0000000000008,361.5600000000008,359.04000000000076,356.4400000000009,353.7600000000008,351.00000000000085,348.160000000001,345.2400000000009,342.240000000001,339.16000000000105,336.000000000001,332.7600000000012,329.44000000000113,326.04000000000127,322.5600000000013,319.0000000000012,315.3600000000013,311.6400000000014,307.8400000000014,303.96000000000146,300.00000000000153,295.9600000000015,291.84000000000157,287.64000000000163,283.36000000000166,279.00000000000006,283.36,287.64,291.84,295.9599999999999,299.99999999999994,303.95999999999987,307.8399999999999,311.6399999999999,315.35999999999996,318.99999999999994,322.5599999999999,326.03999999999985,329.4399999999998,332.75999999999976,335.99999999999983,339.15999999999985,342.23999999999984,345.2399999999997,348.1599999999998,350.99999999999983,353.7599999999999,356.4399999999998,359.0399999999998,361.55999999999983,363.99999999999983,366.35999999999973,368.6399999999997,370.8399999999998,372.9599999999998,374.9999999999997,376.95999999999987,378.83999999999975,380.6399999999998,382.3599999999998,383.9999999999998,385.5599999999998,387.0399999999998,388.4399999999998,389.7599999999998,390.9999999999999,392.15999999999985,393.2399999999999,394.2399999999998,395.1599999999999,395.99999999999983,396.75999999999993,397.4399999999999,398.03999999999985,398.5599999999999,398.99999999999994,399.36,399.6399999999999,399.84,399.96,400.0,399.96,399.84,399.64000000000004,399.36,399.0000000000001,398.5600000000002,398.04000000000013,397.44000000000017,396.7600000000002,396.0000000000001,395.1600000000002,394.2400000000002,393.2400000000002,392.16000000000025,391.00000000000034,389.76000000000033,388.4400000000004,387.04000000000036,385.56000000000034,384.0000000000005,382.36000000000047,380.6400000000005,378.84000000000043,376.96000000000055,375.00000000000057,372.9600000000006,370.8400000000006,368.64000000000067,366.3600000000007,364.0000000000008,361.5600000000008,359.04000000000076,356.4400000000009,353.7600000000008,351.00000000000085,348.160000000001,345.2400000000009,342.240000000001,339.16000000000105,336.000000000001,332.7600000000012,329.44000000000113,326.04000000000127,322.5600000000013,319.0000000000012,315.3600000000013,311.6400000000014,307.8400000000014,303.96000000000146,300.00000000000153,295.9600000000015,291.84000000000157,287.64000000000163,283.36000000000166],\"y\":[100.0,96.04000000000002,92.16000000000003,88.36000000000004,84.64000000000006,81.00000000000007,77.44000000000007,73.96000000000008,70.5600000000001,67.24000000000011,64.00000000000011,60.840000000000124,57.76000000000013,54.76000000000014,51.840000000000146,49.00000000000015,46.24000000000015,43.56000000000016,40.960000000000164,38.44000000000017,36.00000000000017,33.64000000000017,31.360000000000174,29.160000000000178,27.040000000000177,25.000000000000178,23.040000000000177,21.160000000000178,19.360000000000174,17.640000000000175,16.00000000000017,14.440000000000168,12.960000000000164,11.560000000000159,10.240000000000155,9.00000000000015,7.840000000000143,6.760000000000137,5.7600000000001295,4.8400000000001215,4.000000000000114,3.240000000000105,2.5600000000000955,1.9600000000000855,1.440000000000075,1.000000000000064,0.6400000000000523,0.36000000000004007,0.1600000000000273,0.04000000000001393,1.2621774483536189e-27,0.039999999999985505,0.15999999999997044,0.3599999999999548,0.6399999999999386,0.9999999999999218,1.4399999999999045,1.9599999999998865,2.559999999999868,3.2399999999998492,3.9999999999998295,4.839999999999809,5.759999999999788,6.759999999999767,7.839999999999745,8.999999999999723,10.2399999999997,11.559999999999675,12.959999999999653,14.439999999999628,15.999999999999602,17.639999999999578,19.35999999999955,21.159999999999524,23.039999999999495,24.999999999999467,27.039999999999438,29.15999999999941,31.359999999999378,33.63999999999935,35.99999999999932,38.43999999999929,40.959999999999255,43.55999999999922,46.239999999999185,48.999999999999154,51.83999999999912,54.75999999999909,57.75999999999905,60.839999999999016,63.99999999999898,67.23999999999894,70.55999999999891,73.95999999999886,77.43999999999882,80.99999999999879,84.63999999999875,88.3599999999987,92.15999999999866,96.03999999999863,100.0,96.04000000000002,92.16000000000003,88.36000000000004,84.64000000000006,81.00000000000007,77.44000000000007,73.96000000000008,70.5600000000001,67.24000000000011,64.00000000000011,60.840000000000124,57.76000000000013,54.76000000000014,51.840000000000146,49.00000000000015,46.24000000000015,43.56000000000016,40.960000000000164,38.44000000000017,36.00000000000017,33.64000000000017,31.360000000000174,29.160000000000178,27.040000000000177,25.000000000000178,23.040000000000177,21.160000000000178,19.360000000000174,17.640000000000175,16.00000000000017,14.440000000000168,12.960000000000164,11.560000000000159,10.240000000000155,9.00000000000015,7.840000000000143,6.760000000000137,5.7600000000001295,4.8400000000001215,4.000000000000114,3.240000000000105,2.5600000000000955,1.9600000000000855,1.440000000000075,1.000000000000064,0.6400000000000523,0.36000000000004007,0.1600000000000273,0.04000000000001393,1.2621774483536189e-27,0.039999999999985505,0.15999999999997044,0.3599999999999548,0.6399999999999386,0.9999999999999218,1.4399999999999045,1.9599999999998865,2.559999999999868,3.2399999999998492,3.9999999999998295,4.839999999999809,5.759999999999788,6.759999999999767,7.839999999999745,8.999999999999723,10.2399999999997,11.559999999999675,12.959999999999653,14.439999999999628,15.999999999999602,17.639999999999578,19.35999999999955,21.159999999999524,23.039999999999495,24.999999999999467,27.039999999999438,29.15999999999941,31.359999999999378,33.63999999999935,35.99999999999932,38.43999999999929,40.959999999999255,43.55999999999922,46.239999999999185,48.999999999999154,51.83999999999912,54.75999999999909,57.75999999999905,60.839999999999016,63.99999999999898,67.23999999999894,70.55999999999891,73.95999999999886,77.43999999999882,80.99999999999879,84.63999999999875,88.3599999999987,92.15999999999866,96.03999999999863,121.0,116.64000000000001,112.36000000000003,108.16000000000004,104.04000000000006,100.00000000000007,96.04000000000008,92.1600000000001,88.36000000000011,84.64000000000011,81.00000000000013,77.44000000000014,73.96000000000015,70.56000000000016,67.24000000000017,64.00000000000017,60.840000000000174,57.76000000000018,54.76000000000019,51.840000000000195,49.0000000000002,46.2400000000002,43.56000000000021,40.96000000000021,38.44000000000021,36.00000000000021,33.640000000000214,31.360000000000216,29.160000000000213,27.040000000000216,25.000000000000213,23.040000000000212,21.16000000000021,19.360000000000205,17.640000000000203,16.0000000000002,14.440000000000195,12.96000000000019,11.560000000000183,10.240000000000178,9.00000000000017,7.840000000000163,6.760000000000155,5.760000000000146,4.8400000000001375,4.000000000000128,3.2400000000001175,2.560000000000107,1.9600000000000954,1.4400000000000837,1.000000000000071,0.640000000000058,0.36000000000004434,0.16000000000003012,0.04000000000001535,1.5272347125078789e-27,0.03999999999998408,0.1599999999999676,0.3599999999999505,0.639999999999933,0.9999999999999147,1.439999999999896,1.9599999999998767,2.5599999999998566,3.2399999999998363,3.9999999999998153,4.839999999999794,5.7599999999997715,6.759999999999748,7.839999999999725,8.999999999999702,10.239999999999677,11.559999999999652,12.959999999999626,14.4399999999996,15.999999999999574,17.639999999999546,19.35999999999952,21.15999999999949,23.039999999999463,24.99999999999943,27.039999999999402,29.15999999999937,31.35999999999934,33.639999999999304,35.999999999999275,38.439999999999245,40.95999999999921,43.55999999999918,46.23999999999914,48.999999999999105,51.839999999999065,54.75999999999903,57.759999999998996,60.83999999999896,63.99999999999892,67.23999999999889,70.55999999999884,73.9599999999988,77.43999999999876,80.99999999999872,84.63999999999868,88.35999999999864,92.15999999999859,96.03999999999856,99.99999999999851,104.03999999999846,108.15999999999842,112.35999999999838,116.63999999999832,121.0,116.64000000000001,112.36000000000003,108.16000000000004,104.04000000000006,100.00000000000007,96.04000000000008,92.1600000000001,88.36000000000011,84.64000000000011,81.00000000000013,77.44000000000014,73.96000000000015,70.56000000000016,67.24000000000017,64.00000000000017,60.840000000000174,57.76000000000018,54.76000000000019,51.840000000000195,49.0000000000002,46.2400000000002,43.56000000000021,40.96000000000021,38.44000000000021,36.00000000000021,33.640000000000214,31.360000000000216,29.160000000000213,27.040000000000216,25.000000000000213,23.040000000000212,21.16000000000021,19.360000000000205,17.640000000000203,16.0000000000002,14.440000000000195,12.96000000000019,11.560000000000183,10.240000000000178,9.00000000000017,7.840000000000163,6.760000000000155,5.760000000000146,4.8400000000001375,4.000000000000128,3.2400000000001175,2.560000000000107,1.9600000000000954,1.4400000000000837,1.000000000000071,0.640000000000058,0.36000000000004434,0.16000000000003012,0.04000000000001535,1.5272347125078789e-27,0.03999999999998408,0.1599999999999676,0.3599999999999505,0.639999999999933,0.9999999999999147,1.439999999999896,1.9599999999998767,2.5599999999998566,3.2399999999998363,3.9999999999998153,4.839999999999794,5.7599999999997715,6.759999999999748,7.839999999999725,8.999999999999702,10.239999999999677,11.559999999999652,12.959999999999626,14.4399999999996,15.999999999999574,17.639999999999546,19.35999999999952,21.15999999999949,23.039999999999463,24.99999999999943,27.039999999999402,29.15999999999937,31.35999999999934,33.639999999999304,35.999999999999275,38.439999999999245,40.95999999999921,43.55999999999918,46.23999999999914,48.999999999999105,51.839999999999065,54.75999999999903,57.759999999998996,60.83999999999896,63.99999999999892,67.23999999999889,70.55999999999884,73.9599999999988,77.43999999999876,80.99999999999872,84.63999999999868,88.35999999999864,92.15999999999859,96.03999999999856,99.99999999999851,104.03999999999846,108.15999999999842,112.35999999999838,116.63999999999832],\"z\":[-0.0,-19.501753767289703,-26.87999999999996,-32.070397565356075,-36.05648901376833,-39.230090491866,-41.79768414637343,-43.88528682827533,-45.57725748660175,-46.93380870971369,-47.999999999999964,-48.81080208314546,-49.39415350018661,-49.77290829356868,-49.966132529944716,-49.98999899979995,-49.85842356111956,-49.583529523421404,-49.17599414348431,-48.64531220991396,-48.00000000000005,-47.24775550224588,-46.39558599694594,-45.449910891001835,-44.416645528450346,-43.30127018922204,-42.10888742296583,-40.84427009997865,-39.51190200433296,-38.11601238324926,-36.660605559646875,-35.14948648273559,-33.586282914309116,-31.974464811783985,-30.317361362757353,-28.618176042508583,-26.880000000000226,-25.105824025512725,-23.298549311062512,-21.460997180932928,-19.59591794226569,-17.705998983395705,-15.793872229444212,-13.862121049825248,-11.913286700151529,-9.949874371066514,-7.974358908401675,-5.989190262464867,-3.996798718975315,-1.9995999599923457,-3.552713678800501e-13,1.9995999599916356,3.9967987189746066,5.9891902624641595,7.974358908400971,9.949874371065814,11.913286700150834,13.862121049824559,15.793872229443528,17.705998983395034,19.59591794226502,21.46099718093227,23.298549311061862,25.105824025512085,26.8799999999996,28.618176042507976,30.31736136275676,31.974464811783406,33.58628291430855,35.14948648273504,36.66060555964635,38.11601238324875,39.51190200433247,40.84427009997819,42.10888742296539,43.301270189221626,44.41664552844997,45.44991089100149,46.39558599694562,47.24775550224559,47.9999999999998,48.64531220991375,49.17599414348414,49.583529523421284,49.85842356111948,49.98999899979993,49.96613252994475,49.77290829356878,49.39415350018679,48.8108020831457,48.0000000000003,46.93380870971411,45.57725748660229,43.885286828276,41.797684146374245,39.23009049186702,36.05648901376958,32.07039756535767,26.880000000002102,19.50175376729299,0.0,19.501753767289703,26.87999999999996,32.070397565356075,36.05648901376833,39.230090491866,41.79768414637343,43.88528682827533,45.57725748660175,46.93380870971369,47.999999999999964,48.81080208314546,49.39415350018661,49.77290829356868,49.966132529944716,49.98999899979995,49.85842356111956,49.583529523421404,49.17599414348431,48.64531220991396,48.00000000000005,47.24775550224588,46.39558599694594,45.449910891001835,44.416645528450346,43.30127018922204,42.10888742296583,40.84427009997865,39.51190200433296,38.11601238324926,36.660605559646875,35.14948648273559,33.586282914309116,31.974464811783985,30.317361362757353,28.618176042508583,26.880000000000226,25.105824025512725,23.298549311062512,21.460997180932928,19.59591794226569,17.705998983395705,15.793872229444212,13.862121049825248,11.913286700151529,9.949874371066514,7.974358908401675,5.989190262464867,3.996798718975315,1.9995999599923457,3.552713678800501e-13,-1.9995999599916356,-3.9967987189746066,-5.9891902624641595,-7.974358908400971,-9.949874371065814,-11.913286700150834,-13.862121049824559,-15.793872229443528,-17.705998983395034,-19.59591794226502,-21.46099718093227,-23.298549311061862,-25.105824025512085,-26.8799999999996,-28.618176042507976,-30.31736136275676,-31.974464811783406,-33.58628291430855,-35.14948648273504,-36.66060555964635,-38.11601238324875,-39.51190200433247,-40.84427009997819,-42.10888742296539,-43.301270189221626,-44.41664552844997,-45.44991089100149,-46.39558599694562,-47.24775550224559,-47.9999999999998,-48.64531220991375,-49.17599414348414,-49.583529523421284,-49.85842356111948,-49.98999899979993,-49.96613252994475,-49.77290829356878,-49.39415350018679,-48.8108020831457,-48.0000000000003,-46.93380870971411,-45.57725748660229,-43.885286828276,-41.797684146374245,-39.23009049186702,-36.05648901376958,-32.07039756535767,-26.880000000002102,-19.50175376729299,-183.73622397339074,-181.79964356400703,-179.7754999993047,-177.66658211380104,-175.4755777879076,-173.20508075688778,-170.8575968460285,-168.43554969186292,-165.94128600200742,-163.3770803999142,-160.74513989542587,-158.04760801733138,-155.28656864004702,-152.4640495329966,-149.58202565816535,-146.64242223858705,-143.64711761814107,-140.59794593094188,-137.49669959675415,-134.34513165723592,-131.1449579663666,-127.89785924713543,-124.60548302542736,-121.26944545102887,-117.89133301477284,-114.4727041700338,-111.0150908660623,-107.52000000000032,-103.98891479383788,-100.42329610205032,-96.8245836551858,-93.19419724424947,-89.5335378503501,-85.84398872373112,-82.12691641599649,-78.38367176906216,-74.61559086410877,-70.82399593358222,-67.01019623908043,-63.17548891777623,-59.32115979985612,-55.44848419930037,-51.55872768019068,-47.653146800605484,-43.73298983605002,-39.79949748426543,-35.85390355317042,-31.89743563360607,-27.931315758482228,-23.95676104985883,-19.974984355438888,-15.987194875900624,-11.994598784453679,-7.998399839968745,-3.9997999950005174,-7.815970093361102e-13,3.9997999949989542,7.998399839967182,11.99459878445212,15.987194875899062,19.97498435543733,23.956761049857278,27.93131575848068,31.897435633604523,35.85390355316888,39.79949748426389,43.732989836048475,47.653146800603956,51.55872768018914,55.44848419929885,59.321159799854605,63.17548891777473,67.01019623907894,70.82399593358073,74.61559086410729,78.38367176906071,82.12691641599504,85.84398872372967,89.53353785034867,93.19419724424804,96.8245836551844,100.42329610204892,103.98891479383649,107.51999999999896,111.01509086606094,114.47270417003244,117.89133301477152,121.26944545102755,124.60548302542607,127.89785924713414,131.14495796636533,134.3451316572347,137.49669959675293,140.59794593094065,143.64711761813987,146.64242223858585,149.58202565816424,152.4640495329955,155.28656864004594,158.04760801733033,160.7451398954248,163.37708039991318,165.94128600200645,168.43554969186195,170.8575968460276,173.20508075688687,175.47557778790673,177.6665821138002,179.7754999993039,181.79964356400626,183.73622397339074,181.79964356400703,179.7754999993047,177.66658211380104,175.4755777879076,173.20508075688778,170.8575968460285,168.43554969186292,165.94128600200742,163.3770803999142,160.74513989542587,158.04760801733138,155.28656864004702,152.4640495329966,149.58202565816535,146.64242223858705,143.64711761814107,140.59794593094188,137.49669959675415,134.34513165723592,131.1449579663666,127.89785924713543,124.60548302542736,121.26944545102887,117.89133301477284,114.4727041700338,111.0150908660623,107.52000000000032,103.98891479383788,100.42329610205032,96.8245836551858,93.19419724424947,89.5335378503501,85.84398872373112,82.12691641599649,78.38367176906216,74.61559086410877,70.82399593358222,67.01019623908043,63.17548891777623,59.32115979985612,55.44848419930037,51.55872768019068,47.653146800605484,43.73298983605002,39.79949748426543,35.85390355317042,31.89743563360607,27.931315758482228,23.95676104985883,19.974984355438888,15.987194875900624,11.994598784453679,7.998399839968745,3.9997999950005174,7.815970093361102e-13,-3.9997999949989542,-7.998399839967182,-11.99459878445212,-15.987194875899062,-19.97498435543733,-23.956761049857278,-27.93131575848068,-31.897435633604523,-35.85390355316888,-39.79949748426389,-43.732989836048475,-47.653146800603956,-51.55872768018914,-55.44848419929885,-59.321159799854605,-63.17548891777473,-67.01019623907894,-70.82399593358073,-74.61559086410729,-78.38367176906071,-82.12691641599504,-85.84398872372967,-89.53353785034867,-93.19419724424804,-96.8245836551844,-100.42329610204892,-103.98891479383649,-107.51999999999896,-111.01509086606094,-114.47270417003244,-117.89133301477152,-121.26944545102755,-124.60548302542607,-127.89785924713414,-131.14495796636533,-134.3451316572347,-137.49669959675293,-140.59794593094065,-143.64711761813987,-146.64242223858585,-149.58202565816424,-152.4640495329955,-155.28656864004594,-158.04760801733033,-160.7451398954248,-163.37708039991318,-165.94128600200645,-168.43554969186195,-170.8575968460276,-173.20508075688687,-175.47557778790673,-177.6665821138002,-179.7754999993039,-181.79964356400626],\"type\":\"scatter3d\"}],                        {\"template\":{\"data\":{\"bar\":[{\"error_x\":{\"color\":\"#2a3f5f\"},\"error_y\":{\"color\":\"#2a3f5f\"},\"marker\":{\"line\":{\"color\":\"#E5ECF6\",\"width\":0.5},\"pattern\":{\"fillmode\":\"overlay\",\"size\":10,\"solidity\":0.2}},\"type\":\"bar\"}],\"barpolar\":[{\"marker\":{\"line\":{\"color\":\"#E5ECF6\",\"width\":0.5},\"pattern\":{\"fillmode\":\"overlay\",\"size\":10,\"solidity\":0.2}},\"type\":\"barpolar\"}],\"carpet\":[{\"aaxis\":{\"endlinecolor\":\"#2a3f5f\",\"gridcolor\":\"white\",\"linecolor\":\"white\",\"minorgridcolor\":\"white\",\"startlinecolor\":\"#2a3f5f\"},\"baxis\":{\"endlinecolor\":\"#2a3f5f\",\"gridcolor\":\"white\",\"linecolor\":\"white\",\"minorgridcolor\":\"white\",\"startlinecolor\":\"#2a3f5f\"},\"type\":\"carpet\"}],\"choropleth\":[{\"colorbar\":{\"outlinewidth\":0,\"ticks\":\"\"},\"type\":\"choropleth\"}],\"contour\":[{\"colorbar\":{\"outlinewidth\":0,\"ticks\":\"\"},\"colorscale\":[[0.0,\"#0d0887\"],[0.1111111111111111,\"#46039f\"],[0.2222222222222222,\"#7201a8\"],[0.3333333333333333,\"#9c179e\"],[0.4444444444444444,\"#bd3786\"],[0.5555555555555556,\"#d8576b\"],[0.6666666666666666,\"#ed7953\"],[0.7777777777777778,\"#fb9f3a\"],[0.8888888888888888,\"#fdca26\"],[1.0,\"#f0f921\"]],\"type\":\"contour\"}],\"contourcarpet\":[{\"colorbar\":{\"outlinewidth\":0,\"ticks\":\"\"},\"type\":\"contourcarpet\"}],\"heatmap\":[{\"colorbar\":{\"outlinewidth\":0,\"ticks\":\"\"},\"colorscale\":[[0.0,\"#0d0887\"],[0.1111111111111111,\"#46039f\"],[0.2222222222222222,\"#7201a8\"],[0.3333333333333333,\"#9c179e\"],[0.4444444444444444,\"#bd3786\"],[0.5555555555555556,\"#d8576b\"],[0.6666666666666666,\"#ed7953\"],[0.7777777777777778,\"#fb9f3a\"],[0.8888888888888888,\"#fdca26\"],[1.0,\"#f0f921\"]],\"type\":\"heatmap\"}],\"heatmapgl\":[{\"colorbar\":{\"outlinewidth\":0,\"ticks\":\"\"},\"colorscale\":[[0.0,\"#0d0887\"],[0.1111111111111111,\"#46039f\"],[0.2222222222222222,\"#7201a8\"],[0.3333333333333333,\"#9c179e\"],[0.4444444444444444,\"#bd3786\"],[0.5555555555555556,\"#d8576b\"],[0.6666666666666666,\"#ed7953\"],[0.7777777777777778,\"#fb9f3a\"],[0.8888888888888888,\"#fdca26\"],[1.0,\"#f0f921\"]],\"type\":\"heatmapgl\"}],\"histogram\":[{\"marker\":{\"pattern\":{\"fillmode\":\"overlay\",\"size\":10,\"solidity\":0.2}},\"type\":\"histogram\"}],\"histogram2d\":[{\"colorbar\":{\"outlinewidth\":0,\"ticks\":\"\"},\"colorscale\":[[0.0,\"#0d0887\"],[0.1111111111111111,\"#46039f\"],[0.2222222222222222,\"#7201a8\"],[0.3333333333333333,\"#9c179e\"],[0.4444444444444444,\"#bd3786\"],[0.5555555555555556,\"#d8576b\"],[0.6666666666666666,\"#ed7953\"],[0.7777777777777778,\"#fb9f3a\"],[0.8888888888888888,\"#fdca26\"],[1.0,\"#f0f921\"]],\"type\":\"histogram2d\"}],\"histogram2dcontour\":[{\"colorbar\":{\"outlinewidth\":0,\"ticks\":\"\"},\"colorscale\":[[0.0,\"#0d0887\"],[0.1111111111111111,\"#46039f\"],[0.2222222222222222,\"#7201a8\"],[0.3333333333333333,\"#9c179e\"],[0.4444444444444444,\"#bd3786\"],[0.5555555555555556,\"#d8576b\"],[0.6666666666666666,\"#ed7953\"],[0.7777777777777778,\"#fb9f3a\"],[0.8888888888888888,\"#fdca26\"],[1.0,\"#f0f921\"]],\"type\":\"histogram2dcontour\"}],\"mesh3d\":[{\"colorbar\":{\"outlinewidth\":0,\"ticks\":\"\"},\"type\":\"mesh3d\"}],\"parcoords\":[{\"line\":{\"colorbar\":{\"outlinewidth\":0,\"ticks\":\"\"}},\"type\":\"parcoords\"}],\"pie\":[{\"automargin\":true,\"type\":\"pie\"}],\"scatter\":[{\"marker\":{\"colorbar\":{\"outlinewidth\":0,\"ticks\":\"\"}},\"type\":\"scatter\"}],\"scatter3d\":[{\"line\":{\"colorbar\":{\"outlinewidth\":0,\"ticks\":\"\"}},\"marker\":{\"colorbar\":{\"outlinewidth\":0,\"ticks\":\"\"}},\"type\":\"scatter3d\"}],\"scattercarpet\":[{\"marker\":{\"colorbar\":{\"outlinewidth\":0,\"ticks\":\"\"}},\"type\":\"scattercarpet\"}],\"scattergeo\":[{\"marker\":{\"colorbar\":{\"outlinewidth\":0,\"ticks\":\"\"}},\"type\":\"scattergeo\"}],\"scattergl\":[{\"marker\":{\"colorbar\":{\"outlinewidth\":0,\"ticks\":\"\"}},\"type\":\"scattergl\"}],\"scattermapbox\":[{\"marker\":{\"colorbar\":{\"outlinewidth\":0,\"ticks\":\"\"}},\"type\":\"scattermapbox\"}],\"scatterpolar\":[{\"marker\":{\"colorbar\":{\"outlinewidth\":0,\"ticks\":\"\"}},\"type\":\"scatterpolar\"}],\"scatterpolargl\":[{\"marker\":{\"colorbar\":{\"outlinewidth\":0,\"ticks\":\"\"}},\"type\":\"scatterpolargl\"}],\"scatterternary\":[{\"marker\":{\"colorbar\":{\"outlinewidth\":0,\"ticks\":\"\"}},\"type\":\"scatterternary\"}],\"surface\":[{\"colorbar\":{\"outlinewidth\":0,\"ticks\":\"\"},\"colorscale\":[[0.0,\"#0d0887\"],[0.1111111111111111,\"#46039f\"],[0.2222222222222222,\"#7201a8\"],[0.3333333333333333,\"#9c179e\"],[0.4444444444444444,\"#bd3786\"],[0.5555555555555556,\"#d8576b\"],[0.6666666666666666,\"#ed7953\"],[0.7777777777777778,\"#fb9f3a\"],[0.8888888888888888,\"#fdca26\"],[1.0,\"#f0f921\"]],\"type\":\"surface\"}],\"table\":[{\"cells\":{\"fill\":{\"color\":\"#EBF0F8\"},\"line\":{\"color\":\"white\"}},\"header\":{\"fill\":{\"color\":\"#C8D4E3\"},\"line\":{\"color\":\"white\"}},\"type\":\"table\"}]},\"layout\":{\"annotationdefaults\":{\"arrowcolor\":\"#2a3f5f\",\"arrowhead\":0,\"arrowwidth\":1},\"autotypenumbers\":\"strict\",\"coloraxis\":{\"colorbar\":{\"outlinewidth\":0,\"ticks\":\"\"}},\"colorscale\":{\"diverging\":[[0,\"#8e0152\"],[0.1,\"#c51b7d\"],[0.2,\"#de77ae\"],[0.3,\"#f1b6da\"],[0.4,\"#fde0ef\"],[0.5,\"#f7f7f7\"],[0.6,\"#e6f5d0\"],[0.7,\"#b8e186\"],[0.8,\"#7fbc41\"],[0.9,\"#4d9221\"],[1,\"#276419\"]],\"sequential\":[[0.0,\"#0d0887\"],[0.1111111111111111,\"#46039f\"],[0.2222222222222222,\"#7201a8\"],[0.3333333333333333,\"#9c179e\"],[0.4444444444444444,\"#bd3786\"],[0.5555555555555556,\"#d8576b\"],[0.6666666666666666,\"#ed7953\"],[0.7777777777777778,\"#fb9f3a\"],[0.8888888888888888,\"#fdca26\"],[1.0,\"#f0f921\"]],\"sequentialminus\":[[0.0,\"#0d0887\"],[0.1111111111111111,\"#46039f\"],[0.2222222222222222,\"#7201a8\"],[0.3333333333333333,\"#9c179e\"],[0.4444444444444444,\"#bd3786\"],[0.5555555555555556,\"#d8576b\"],[0.6666666666666666,\"#ed7953\"],[0.7777777777777778,\"#fb9f3a\"],[0.8888888888888888,\"#fdca26\"],[1.0,\"#f0f921\"]]},\"colorway\":[\"#636efa\",\"#EF553B\",\"#00cc96\",\"#ab63fa\",\"#FFA15A\",\"#19d3f3\",\"#FF6692\",\"#B6E880\",\"#FF97FF\",\"#FECB52\"],\"font\":{\"color\":\"#2a3f5f\"},\"geo\":{\"bgcolor\":\"white\",\"lakecolor\":\"white\",\"landcolor\":\"#E5ECF6\",\"showlakes\":true,\"showland\":true,\"subunitcolor\":\"white\"},\"hoverlabel\":{\"align\":\"left\"},\"hovermode\":\"closest\",\"mapbox\":{\"style\":\"light\"},\"paper_bgcolor\":\"white\",\"plot_bgcolor\":\"#E5ECF6\",\"polar\":{\"angularaxis\":{\"gridcolor\":\"white\",\"linecolor\":\"white\",\"ticks\":\"\"},\"bgcolor\":\"#E5ECF6\",\"radialaxis\":{\"gridcolor\":\"white\",\"linecolor\":\"white\",\"ticks\":\"\"}},\"scene\":{\"xaxis\":{\"backgroundcolor\":\"#E5ECF6\",\"gridcolor\":\"white\",\"gridwidth\":2,\"linecolor\":\"white\",\"showbackground\":true,\"ticks\":\"\",\"zerolinecolor\":\"white\"},\"yaxis\":{\"backgroundcolor\":\"#E5ECF6\",\"gridcolor\":\"white\",\"gridwidth\":2,\"linecolor\":\"white\",\"showbackground\":true,\"ticks\":\"\",\"zerolinecolor\":\"white\"},\"zaxis\":{\"backgroundcolor\":\"#E5ECF6\",\"gridcolor\":\"white\",\"gridwidth\":2,\"linecolor\":\"white\",\"showbackground\":true,\"ticks\":\"\",\"zerolinecolor\":\"white\"}},\"shapedefaults\":{\"line\":{\"color\":\"#2a3f5f\"}},\"ternary\":{\"aaxis\":{\"gridcolor\":\"white\",\"linecolor\":\"white\",\"ticks\":\"\"},\"baxis\":{\"gridcolor\":\"white\",\"linecolor\":\"white\",\"ticks\":\"\"},\"bgcolor\":\"#E5ECF6\",\"caxis\":{\"gridcolor\":\"white\",\"linecolor\":\"white\",\"ticks\":\"\"}},\"title\":{\"x\":0.05},\"xaxis\":{\"automargin\":true,\"gridcolor\":\"white\",\"linecolor\":\"white\",\"ticks\":\"\",\"title\":{\"standoff\":15},\"zerolinecolor\":\"white\",\"zerolinewidth\":2},\"yaxis\":{\"automargin\":true,\"gridcolor\":\"white\",\"linecolor\":\"white\",\"ticks\":\"\",\"title\":{\"standoff\":15},\"zerolinecolor\":\"white\",\"zerolinewidth\":2}}},\"scene\":{\"domain\":{\"x\":[0.0,1.0],\"y\":[0.0,1.0]},\"xaxis\":{\"title\":{\"text\":\"X1_Sq\"}},\"yaxis\":{\"title\":{\"text\":\"X2_Sq\"}},\"zaxis\":{\"title\":{\"text\":\"X1_X2\"}}},\"coloraxis\":{\"colorbar\":{\"title\":{\"text\":\"Y\"}},\"colorscale\":[[0.0,\"#0d0887\"],[0.1111111111111111,\"#46039f\"],[0.2222222222222222,\"#7201a8\"],[0.3333333333333333,\"#9c179e\"],[0.4444444444444444,\"#bd3786\"],[0.5555555555555556,\"#d8576b\"],[0.6666666666666666,\"#ed7953\"],[0.7777777777777778,\"#fb9f3a\"],[0.8888888888888888,\"#fdca26\"],[1.0,\"#f0f921\"]]},\"legend\":{\"tracegroupgap\":0},\"margin\":{\"t\":60}},                        {\"responsive\": true}                    ).then(function(){\n",
       "                            \n",
       "var gd = document.getElementById('0dda234f-b786-475b-b93e-76ae91bddb0c');\n",
       "var x = new MutationObserver(function (mutations, observer) {{\n",
       "        var display = window.getComputedStyle(gd).display;\n",
       "        if (!display || display === 'none') {{\n",
       "            console.log([gd, 'removed!']);\n",
       "            Plotly.purge(gd);\n",
       "            observer.disconnect();\n",
       "        }}\n",
       "}});\n",
       "\n",
       "// Listen for the removal of the full notebook cells\n",
       "var notebookContainer = gd.closest('#notebook-container');\n",
       "if (notebookContainer) {{\n",
       "    x.observe(notebookContainer, {childList: true});\n",
       "}}\n",
       "\n",
       "// Listen for the clearing of the current output cell\n",
       "var outputEl = gd.closest('.output');\n",
       "if (outputEl) {{\n",
       "    x.observe(outputEl, {childList: true});\n",
       "}}\n",
       "\n",
       "                        })                };                });            </script>        </div>"
      ]
     },
     "metadata": {},
     "output_type": "display_data"
    }
   ],
   "source": [
    "fig = px.scatter_3d(df, x='X1_Sq', y='X2_Sq', z='X1_X2',\n",
    "              color='Y')\n",
    "fig.show()"
   ]
  },
  {
   "cell_type": "markdown",
   "metadata": {},
   "source": [
    "## B) Let scikit do the work and solve it with a radial-basis-function (rbf) kernel"
   ]
  },
  {
   "cell_type": "code",
   "execution_count": 37,
   "metadata": {
    "colab": {
     "base_uri": "https://localhost:8080/",
     "height": 278
    },
    "colab_type": "code",
    "executionInfo": {
     "elapsed": 4514,
     "status": "ok",
     "timestamp": 1588077552497,
     "user": {
      "displayName": "jay shankar",
      "photoUrl": "https://lh3.googleusercontent.com/a-/AOh14GgRrWGWz3VCuyilNJEb_JWHMXVuexkv-FuUSP4LyQ=s64",
      "userId": "11422029424551483139"
     },
     "user_tz": -330
    },
    "id": "e-FKmBe45KAZ",
    "outputId": "1247e38f-aa30-4e93-c21c-dd7995bffbb8"
   },
   "outputs": [
    {
     "data": {
      "image/png": "[encoded data removed]",
      "text/plain": [
       "<Figure size 432x288 with 1 Axes>"
      ]
     },
     "metadata": {},
     "output_type": "display_data"
    }
   ],
   "source": [
    "X = df.iloc[:, :2].values  # we only take the first two features.\n",
    "y = df.Y.values\n",
    "plot_decision_boundary(X,y,'rbf')"
   ]
  },
  {
   "cell_type": "code",
   "execution_count": 0,
   "metadata": {
    "colab": {},
    "colab_type": "code",
    "id": "3SoFvvbZy4CM"
   },
   "outputs": [],
   "source": []
  }
 ],
 "metadata": {
  "colab": {
   "authorship_tag": "ABX9TyPYA7luNk+s6R3OAarEPzh4",
   "collapsed_sections": [],
   "name": "SVM_Tutorial.ipynb",
   "provenance": []
  },
  "kernelspec": {
   "display_name": "Python 3 (ipykernel)",
   "language": "python",
   "name": "python3"
  },
  "language_info": {
   "codemirror_mode": {
    "name": "ipython",
    "version": 3
   },
   "file_extension": ".py",
   "mimetype": "text/x-python",
   "name": "python",
   "nbconvert_exporter": "python",
   "pygments_lexer": "ipython3",
   "version": "3.9.12"
  }
 },
 "nbformat": 4,
 "nbformat_minor": 1
}
