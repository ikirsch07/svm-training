{
 "cells": [
  {
   "cell_type": "markdown",
   "metadata": {
    "colab_type": "text",
    "id": "view-in-github"
   },
   "source": [
    "<a href=\"https://colab.research.google.com/github/ShanmukhVegi/Image-Classification/blob/main/Shanmukh_Classification.ipynb\" target=\"_parent\"><img src=\"https://colab.research.google.com/assets/colab-badge.svg\" alt=\"Open In Colab\"/></a>"
   ]
  },
  {
   "cell_type": "markdown",
   "metadata": {
    "id": "uBajLXYrWBlo"
   },
   "source": [
    "# SVM - Image Classification\n",
    "based on: https://github.com/ShanmukhVegi/Image-Classification"
   ]
  },
  {
   "cell_type": "code",
   "execution_count": 45,
   "metadata": {},
   "outputs": [],
   "source": [
    "# Importing all the required packages\n",
    "#!pip install scikit-image"
   ]
  },
  {
   "cell_type": "code",
   "execution_count": 16,
   "metadata": {
    "id": "VgPd1fjcOKlg"
   },
   "outputs": [],
   "source": [
    "import joblib\n",
    "import matplotlib.pyplot as plt\n",
    "import numpy as np\n",
    "import os\n",
    "import pandas as pd\n",
    "import pickle\n",
    "\n",
    "from sklearn import svm\n",
    "from sklearn.model_selection import GridSearchCV\n",
    "from sklearn.model_selection import train_test_split\n",
    "from sklearn.metrics import classification_report,accuracy_score,confusion_matrix\n",
    "\n",
    "from skimage.transform import resize\n",
    "from skimage.io import imread"
   ]
  },
  {
   "cell_type": "markdown",
   "metadata": {
    "id": "i8zhtW8yz34D"
   },
   "source": [
    "**NOTE** : Please enter Category Names same as folder name"
   ]
  },
  {
   "cell_type": "code",
   "execution_count": 17,
   "metadata": {
    "colab": {
     "base_uri": "https://localhost:8080/"
    },
    "id": "umZtNj4CTllG",
    "outputId": "6bd8a057-f089-41e9-e55e-ef7d8fe47639"
   },
   "outputs": [
    {
     "name": "stdout",
     "output_type": "stream",
     "text": [
      "Type y to give categories or type n to go with classification of Cars,Ice Cream cone and Cricket ball\n",
      "n\n"
     ]
    }
   ],
   "source": [
    "Categories=['Cars', 'Ice cream cone', 'Cricket ball']\n",
    "print(\"Type y to give categories or type n to go with classification of Cars,Ice Cream cone and Cricket ball\");\n",
    "\n",
    "while(True):\n",
    "    check=input()\n",
    "    if(check=='n' or check=='y'):\n",
    "        break\n",
    "    print(\"Please give a valid input (y/n)\")\n",
    "if(check=='y'):\n",
    "    print(\"Enter How Many types of Images do you want to classify\")\n",
    "    n=int(input())\n",
    "    Categories=[]\n",
    "    print(f'please enter {n} names')\n",
    "    for i in range(n):\n",
    "        name=input()\n",
    "        Categories.append(name)\n",
    "    print(f\"If not drive Please upload all the {n} category images in google collab with the same names as given in categories\")"
   ]
  },
  {
   "cell_type": "markdown",
   "metadata": {
    "id": "0wwiPscqYune"
   },
   "source": [
    "Loading all the images and creating a DataFrame\n",
    "\n",
    "If you have your images in your google drive, simply mount the google Drive and copy the path of the folder containing all the Category images and Change the datadir variable to that path"
   ]
  },
  {
   "cell_type": "code",
   "execution_count": 7,
   "metadata": {
    "colab": {
     "base_uri": "https://localhost:8080/",
     "height": 531
    },
    "id": "XdGD-XpMYUjJ",
    "outputId": "d88292e8-0fd2-4c41-a485-c98045228f62"
   },
   "outputs": [
    {
     "name": "stdout",
     "output_type": "stream",
     "text": [
      "loading... category : Cars\n",
      "loaded category:Cars successfully\n",
      "loading... category : Ice cream cone\n",
      "loaded category:Ice cream cone successfully\n",
      "loading... category : Cricket ball\n",
      "loaded category:Cricket ball successfully\n"
     ]
    },
    {
     "data": {
      "text/html": [
       "<div>\n",
       "<style scoped>\n",
       "    .dataframe tbody tr th:only-of-type {\n",
       "        vertical-align: middle;\n",
       "    }\n",
       "\n",
       "    .dataframe tbody tr th {\n",
       "        vertical-align: top;\n",
       "    }\n",
       "\n",
       "    .dataframe thead th {\n",
       "        text-align: right;\n",
       "    }\n",
       "</style>\n",
       "<table border=\"1\" class=\"dataframe\">\n",
       "  <thead>\n",
       "    <tr style=\"text-align: right;\">\n",
       "      <th></th>\n",
       "      <th>0</th>\n",
       "      <th>1</th>\n",
       "      <th>2</th>\n",
       "      <th>3</th>\n",
       "      <th>4</th>\n",
       "      <th>5</th>\n",
       "      <th>6</th>\n",
       "      <th>7</th>\n",
       "      <th>8</th>\n",
       "      <th>9</th>\n",
       "      <th>...</th>\n",
       "      <th>67491</th>\n",
       "      <th>67492</th>\n",
       "      <th>67493</th>\n",
       "      <th>67494</th>\n",
       "      <th>67495</th>\n",
       "      <th>67496</th>\n",
       "      <th>67497</th>\n",
       "      <th>67498</th>\n",
       "      <th>67499</th>\n",
       "      <th>Target</th>\n",
       "    </tr>\n",
       "  </thead>\n",
       "  <tbody>\n",
       "    <tr>\n",
       "      <th>0</th>\n",
       "      <td>0.609571</td>\n",
       "      <td>0.589963</td>\n",
       "      <td>0.605649</td>\n",
       "      <td>0.611236</td>\n",
       "      <td>0.591629</td>\n",
       "      <td>0.607315</td>\n",
       "      <td>0.615045</td>\n",
       "      <td>0.595437</td>\n",
       "      <td>0.611123</td>\n",
       "      <td>0.615501</td>\n",
       "      <td>...</td>\n",
       "      <td>0.980772</td>\n",
       "      <td>0.980772</td>\n",
       "      <td>0.980772</td>\n",
       "      <td>0.981178</td>\n",
       "      <td>0.981178</td>\n",
       "      <td>0.981178</td>\n",
       "      <td>0.982228</td>\n",
       "      <td>0.982228</td>\n",
       "      <td>0.982228</td>\n",
       "      <td>0</td>\n",
       "    </tr>\n",
       "    <tr>\n",
       "      <th>1</th>\n",
       "      <td>1.000000</td>\n",
       "      <td>1.000000</td>\n",
       "      <td>1.000000</td>\n",
       "      <td>1.000000</td>\n",
       "      <td>1.000000</td>\n",
       "      <td>1.000000</td>\n",
       "      <td>1.000000</td>\n",
       "      <td>1.000000</td>\n",
       "      <td>1.000000</td>\n",
       "      <td>1.000000</td>\n",
       "      <td>...</td>\n",
       "      <td>1.000000</td>\n",
       "      <td>1.000000</td>\n",
       "      <td>1.000000</td>\n",
       "      <td>1.000000</td>\n",
       "      <td>1.000000</td>\n",
       "      <td>1.000000</td>\n",
       "      <td>1.000000</td>\n",
       "      <td>1.000000</td>\n",
       "      <td>1.000000</td>\n",
       "      <td>0</td>\n",
       "    </tr>\n",
       "    <tr>\n",
       "      <th>2</th>\n",
       "      <td>0.652026</td>\n",
       "      <td>0.707136</td>\n",
       "      <td>0.742359</td>\n",
       "      <td>0.650483</td>\n",
       "      <td>0.710976</td>\n",
       "      <td>0.744384</td>\n",
       "      <td>0.651130</td>\n",
       "      <td>0.711622</td>\n",
       "      <td>0.745030</td>\n",
       "      <td>0.659323</td>\n",
       "      <td>...</td>\n",
       "      <td>0.446558</td>\n",
       "      <td>0.391562</td>\n",
       "      <td>0.290075</td>\n",
       "      <td>0.451752</td>\n",
       "      <td>0.396755</td>\n",
       "      <td>0.295268</td>\n",
       "      <td>0.454683</td>\n",
       "      <td>0.397254</td>\n",
       "      <td>0.307931</td>\n",
       "      <td>0</td>\n",
       "    </tr>\n",
       "    <tr>\n",
       "      <th>3</th>\n",
       "      <td>0.745521</td>\n",
       "      <td>0.745521</td>\n",
       "      <td>0.737677</td>\n",
       "      <td>0.745524</td>\n",
       "      <td>0.745524</td>\n",
       "      <td>0.737681</td>\n",
       "      <td>0.746133</td>\n",
       "      <td>0.746133</td>\n",
       "      <td>0.738290</td>\n",
       "      <td>0.746558</td>\n",
       "      <td>...</td>\n",
       "      <td>0.877754</td>\n",
       "      <td>0.877754</td>\n",
       "      <td>0.877754</td>\n",
       "      <td>0.876393</td>\n",
       "      <td>0.876393</td>\n",
       "      <td>0.876393</td>\n",
       "      <td>0.873430</td>\n",
       "      <td>0.873430</td>\n",
       "      <td>0.873430</td>\n",
       "      <td>0</td>\n",
       "    </tr>\n",
       "    <tr>\n",
       "      <th>4</th>\n",
       "      <td>0.492812</td>\n",
       "      <td>0.768377</td>\n",
       "      <td>0.899329</td>\n",
       "      <td>0.496329</td>\n",
       "      <td>0.772481</td>\n",
       "      <td>0.900138</td>\n",
       "      <td>0.498134</td>\n",
       "      <td>0.774471</td>\n",
       "      <td>0.899768</td>\n",
       "      <td>0.501118</td>\n",
       "      <td>...</td>\n",
       "      <td>0.652859</td>\n",
       "      <td>0.589277</td>\n",
       "      <td>0.487179</td>\n",
       "      <td>0.639776</td>\n",
       "      <td>0.585112</td>\n",
       "      <td>0.487543</td>\n",
       "      <td>0.630475</td>\n",
       "      <td>0.572860</td>\n",
       "      <td>0.478700</td>\n",
       "      <td>0</td>\n",
       "    </tr>\n",
       "    <tr>\n",
       "      <th>...</th>\n",
       "      <td>...</td>\n",
       "      <td>...</td>\n",
       "      <td>...</td>\n",
       "      <td>...</td>\n",
       "      <td>...</td>\n",
       "      <td>...</td>\n",
       "      <td>...</td>\n",
       "      <td>...</td>\n",
       "      <td>...</td>\n",
       "      <td>...</td>\n",
       "      <td>...</td>\n",
       "      <td>...</td>\n",
       "      <td>...</td>\n",
       "      <td>...</td>\n",
       "      <td>...</td>\n",
       "      <td>...</td>\n",
       "      <td>...</td>\n",
       "      <td>...</td>\n",
       "      <td>...</td>\n",
       "      <td>...</td>\n",
       "      <td>...</td>\n",
       "    </tr>\n",
       "    <tr>\n",
       "      <th>95</th>\n",
       "      <td>1.000000</td>\n",
       "      <td>1.000000</td>\n",
       "      <td>1.000000</td>\n",
       "      <td>1.000000</td>\n",
       "      <td>1.000000</td>\n",
       "      <td>1.000000</td>\n",
       "      <td>1.000000</td>\n",
       "      <td>1.000000</td>\n",
       "      <td>1.000000</td>\n",
       "      <td>1.000000</td>\n",
       "      <td>...</td>\n",
       "      <td>1.000000</td>\n",
       "      <td>1.000000</td>\n",
       "      <td>1.000000</td>\n",
       "      <td>1.000000</td>\n",
       "      <td>1.000000</td>\n",
       "      <td>1.000000</td>\n",
       "      <td>1.000000</td>\n",
       "      <td>1.000000</td>\n",
       "      <td>1.000000</td>\n",
       "      <td>2</td>\n",
       "    </tr>\n",
       "    <tr>\n",
       "      <th>96</th>\n",
       "      <td>0.609519</td>\n",
       "      <td>0.561842</td>\n",
       "      <td>0.371250</td>\n",
       "      <td>0.647409</td>\n",
       "      <td>0.621020</td>\n",
       "      <td>0.297513</td>\n",
       "      <td>0.658226</td>\n",
       "      <td>0.634884</td>\n",
       "      <td>0.299603</td>\n",
       "      <td>0.635578</td>\n",
       "      <td>...</td>\n",
       "      <td>0.602130</td>\n",
       "      <td>0.765827</td>\n",
       "      <td>0.323386</td>\n",
       "      <td>0.690254</td>\n",
       "      <td>0.813153</td>\n",
       "      <td>0.520494</td>\n",
       "      <td>0.484045</td>\n",
       "      <td>0.691460</td>\n",
       "      <td>0.029988</td>\n",
       "      <td>2</td>\n",
       "    </tr>\n",
       "    <tr>\n",
       "      <th>97</th>\n",
       "      <td>0.933333</td>\n",
       "      <td>0.937255</td>\n",
       "      <td>0.956863</td>\n",
       "      <td>0.933333</td>\n",
       "      <td>0.937255</td>\n",
       "      <td>0.956863</td>\n",
       "      <td>0.933333</td>\n",
       "      <td>0.937255</td>\n",
       "      <td>0.956863</td>\n",
       "      <td>0.933333</td>\n",
       "      <td>...</td>\n",
       "      <td>0.933333</td>\n",
       "      <td>0.937255</td>\n",
       "      <td>0.956863</td>\n",
       "      <td>0.933333</td>\n",
       "      <td>0.937255</td>\n",
       "      <td>0.956863</td>\n",
       "      <td>0.933333</td>\n",
       "      <td>0.937255</td>\n",
       "      <td>0.956863</td>\n",
       "      <td>2</td>\n",
       "    </tr>\n",
       "    <tr>\n",
       "      <th>98</th>\n",
       "      <td>1.000000</td>\n",
       "      <td>1.000000</td>\n",
       "      <td>1.000000</td>\n",
       "      <td>1.000000</td>\n",
       "      <td>1.000000</td>\n",
       "      <td>1.000000</td>\n",
       "      <td>1.000000</td>\n",
       "      <td>1.000000</td>\n",
       "      <td>1.000000</td>\n",
       "      <td>1.000000</td>\n",
       "      <td>...</td>\n",
       "      <td>1.000000</td>\n",
       "      <td>1.000000</td>\n",
       "      <td>1.000000</td>\n",
       "      <td>1.000000</td>\n",
       "      <td>1.000000</td>\n",
       "      <td>1.000000</td>\n",
       "      <td>1.000000</td>\n",
       "      <td>1.000000</td>\n",
       "      <td>1.000000</td>\n",
       "      <td>2</td>\n",
       "    </tr>\n",
       "    <tr>\n",
       "      <th>99</th>\n",
       "      <td>1.000000</td>\n",
       "      <td>1.000000</td>\n",
       "      <td>1.000000</td>\n",
       "      <td>1.000000</td>\n",
       "      <td>1.000000</td>\n",
       "      <td>1.000000</td>\n",
       "      <td>1.000000</td>\n",
       "      <td>1.000000</td>\n",
       "      <td>1.000000</td>\n",
       "      <td>1.000000</td>\n",
       "      <td>...</td>\n",
       "      <td>1.000000</td>\n",
       "      <td>1.000000</td>\n",
       "      <td>1.000000</td>\n",
       "      <td>1.000000</td>\n",
       "      <td>1.000000</td>\n",
       "      <td>1.000000</td>\n",
       "      <td>1.000000</td>\n",
       "      <td>1.000000</td>\n",
       "      <td>1.000000</td>\n",
       "      <td>2</td>\n",
       "    </tr>\n",
       "  </tbody>\n",
       "</table>\n",
       "<p>100 rows × 67501 columns</p>\n",
       "</div>"
      ],
      "text/plain": [
       "           0         1         2         3         4         5         6  \\\n",
       "0   0.609571  0.589963  0.605649  0.611236  0.591629  0.607315  0.615045   \n",
       "1   1.000000  1.000000  1.000000  1.000000  1.000000  1.000000  1.000000   \n",
       "2   0.652026  0.707136  0.742359  0.650483  0.710976  0.744384  0.651130   \n",
       "3   0.745521  0.745521  0.737677  0.745524  0.745524  0.737681  0.746133   \n",
       "4   0.492812  0.768377  0.899329  0.496329  0.772481  0.900138  0.498134   \n",
       "..       ...       ...       ...       ...       ...       ...       ...   \n",
       "95  1.000000  1.000000  1.000000  1.000000  1.000000  1.000000  1.000000   \n",
       "96  0.609519  0.561842  0.371250  0.647409  0.621020  0.297513  0.658226   \n",
       "97  0.933333  0.937255  0.956863  0.933333  0.937255  0.956863  0.933333   \n",
       "98  1.000000  1.000000  1.000000  1.000000  1.000000  1.000000  1.000000   \n",
       "99  1.000000  1.000000  1.000000  1.000000  1.000000  1.000000  1.000000   \n",
       "\n",
       "           7         8         9  ...     67491     67492     67493     67494  \\\n",
       "0   0.595437  0.611123  0.615501  ...  0.980772  0.980772  0.980772  0.981178   \n",
       "1   1.000000  1.000000  1.000000  ...  1.000000  1.000000  1.000000  1.000000   \n",
       "2   0.711622  0.745030  0.659323  ...  0.446558  0.391562  0.290075  0.451752   \n",
       "3   0.746133  0.738290  0.746558  ...  0.877754  0.877754  0.877754  0.876393   \n",
       "4   0.774471  0.899768  0.501118  ...  0.652859  0.589277  0.487179  0.639776   \n",
       "..       ...       ...       ...  ...       ...       ...       ...       ...   \n",
       "95  1.000000  1.000000  1.000000  ...  1.000000  1.000000  1.000000  1.000000   \n",
       "96  0.634884  0.299603  0.635578  ...  0.602130  0.765827  0.323386  0.690254   \n",
       "97  0.937255  0.956863  0.933333  ...  0.933333  0.937255  0.956863  0.933333   \n",
       "98  1.000000  1.000000  1.000000  ...  1.000000  1.000000  1.000000  1.000000   \n",
       "99  1.000000  1.000000  1.000000  ...  1.000000  1.000000  1.000000  1.000000   \n",
       "\n",
       "       67495     67496     67497     67498     67499  Target  \n",
       "0   0.981178  0.981178  0.982228  0.982228  0.982228       0  \n",
       "1   1.000000  1.000000  1.000000  1.000000  1.000000       0  \n",
       "2   0.396755  0.295268  0.454683  0.397254  0.307931       0  \n",
       "3   0.876393  0.876393  0.873430  0.873430  0.873430       0  \n",
       "4   0.585112  0.487543  0.630475  0.572860  0.478700       0  \n",
       "..       ...       ...       ...       ...       ...     ...  \n",
       "95  1.000000  1.000000  1.000000  1.000000  1.000000       2  \n",
       "96  0.813153  0.520494  0.484045  0.691460  0.029988       2  \n",
       "97  0.937255  0.956863  0.933333  0.937255  0.956863       2  \n",
       "98  1.000000  1.000000  1.000000  1.000000  1.000000       2  \n",
       "99  1.000000  1.000000  1.000000  1.000000  1.000000       2  \n",
       "\n",
       "[100 rows x 67501 columns]"
      ]
     },
     "execution_count": 7,
     "metadata": {},
     "output_type": "execute_result"
    }
   ],
   "source": [
    "flat_data_arr=[]\n",
    "target_arr=[]\n",
    "#please use datadir='/content' if the files are upload on to google collab\n",
    "#else mount the drive and give path of the parent-folder containing all category images folders.\n",
    "#datadir='/content/drive/MyDrive/ML'\n",
    "datadir='./'\n",
    "for i in Categories:\n",
    "    print(f'loading... category : {i}')\n",
    "    path=os.path.join(datadir,i)\n",
    "    for img in os.listdir(path):\n",
    "        img_array=imread(os.path.join(path,img))\n",
    "        img_resized=resize(img_array,(150,150,3))\n",
    "        flat_data_arr.append(img_resized.flatten())\n",
    "        target_arr.append(Categories.index(i))\n",
    "    print(f'loaded category:{i} successfully')\n",
    "flat_data=np.array(flat_data_arr)\n",
    "target=np.array(target_arr)\n",
    "df=pd.DataFrame(flat_data)\n",
    "df['Target']=target\n",
    "df # 67495 columns = 150 Pixels * 150 Pixels * 3 Colors (RGB)   (+ Target column)"
   ]
  },
  {
   "cell_type": "markdown",
   "metadata": {
    "id": "gUp5FDqIY070"
   },
   "source": [
    "### Splitting the data into training and testing data"
   ]
  },
  {
   "cell_type": "code",
   "execution_count": 28,
   "metadata": {
    "colab": {
     "base_uri": "https://localhost:8080/"
    },
    "id": "Jg3XHRP3OUyf",
    "outputId": "f9f0a456-8a4c-45e6-9b01-509d753139f2"
   },
   "outputs": [
    {
     "name": "stdout",
     "output_type": "stream",
     "text": [
      "Splitted Successfully\n"
     ]
    }
   ],
   "source": [
    "x=df.iloc[:,:-1]\n",
    "y=df.iloc[:,-1]\n",
    "x_train, x_test, y_train, y_test=train_test_split(x,y,test_size=0.20,random_state=77,stratify=y)\n",
    "print('Splitted Successfully')"
   ]
  },
  {
   "cell_type": "markdown",
   "metadata": {
    "id": "YMmSZWDJY_eE"
   },
   "source": [
    "This Part of code may take a while for training the data using SVC model \n",
    "(probability=True: SVMs do not directly provide probability estimates, these are internally calculated using logistic regression on the SVM’s scores, fit by an additional cross-validation on the training data)."
   ]
  },
  {
   "cell_type": "code",
   "execution_count": 30,
   "metadata": {
    "colab": {
     "base_uri": "https://localhost:8080/"
    },
    "id": "DIaIT2GlOvy6",
    "outputId": "47a22b93-17d2-4f2a-fb1f-a0e355551852"
   },
   "outputs": [
    {
     "name": "stdout",
     "output_type": "stream",
     "text": [
      "The training of the model is started, please wait for while as it may take few minutes to complete\n",
      "The Model is trained well with the given images\n"
     ]
    },
    {
     "data": {
      "text/plain": [
       "{'C': 10, 'gamma': 0.0001, 'kernel': 'rbf'}"
      ]
     },
     "execution_count": 30,
     "metadata": {},
     "output_type": "execute_result"
    }
   ],
   "source": [
    "param_grid={'C':[0.1,1,10,100],'gamma':[0.0001,0.001,0.1,1],'kernel':['rbf', 'poly']}\n",
    "\n",
    "svc=svm.SVC(probability=True) \n",
    "print(\"The training of the model is started, please wait for while as it may take few minutes to complete\")\n",
    "model=GridSearchCV(svc,param_grid)\n",
    "model.fit(x_train,y_train)\n",
    "print('The Model is trained well with the given images')\n",
    "model.best_params_"
   ]
  },
  {
   "cell_type": "code",
   "execution_count": 32,
   "metadata": {},
   "outputs": [
    {
     "data": {
      "text/plain": [
       "['./model.joblib']"
      ]
     },
     "execution_count": 32,
     "metadata": {},
     "output_type": "execute_result"
    }
   ],
   "source": [
    "# Save model\n",
    "joblib.dump(model, \"./model.joblib\")"
   ]
  },
  {
   "cell_type": "markdown",
   "metadata": {
    "id": "VWKN2_4eZZmF"
   },
   "source": [
    "Predicting our testing data"
   ]
  },
  {
   "cell_type": "code",
   "execution_count": 34,
   "metadata": {},
   "outputs": [],
   "source": [
    "# Load previously stored model\n",
    "model = joblib.load(\"./model.joblib\")"
   ]
  },
  {
   "cell_type": "code",
   "execution_count": 35,
   "metadata": {
    "colab": {
     "base_uri": "https://localhost:8080/"
    },
    "id": "h7qEbNLoSAcS",
    "outputId": "3c93b66c-9202-42ee-ae30-5cadea7f00ef"
   },
   "outputs": [
    {
     "name": "stdout",
     "output_type": "stream",
     "text": [
      "The predicted Data is :\n"
     ]
    },
    {
     "data": {
      "text/plain": [
       "array([0, 0, 2, 2, 0, 1, 1, 2, 0, 1, 1, 2, 1, 1, 2, 2, 0, 0, 1, 1])"
      ]
     },
     "execution_count": 35,
     "metadata": {},
     "output_type": "execute_result"
    }
   ],
   "source": [
    "y_pred=model.predict(x_test)\n",
    "print(\"The predicted Data is :\")\n",
    "y_pred"
   ]
  },
  {
   "cell_type": "code",
   "execution_count": 11,
   "metadata": {
    "colab": {
     "base_uri": "https://localhost:8080/"
    },
    "id": "A4rMJQ0HSCgU",
    "outputId": "c5a922e2-4c75-4f95-96e3-bf9d6c9a7089"
   },
   "outputs": [
    {
     "name": "stdout",
     "output_type": "stream",
     "text": [
      "The actual data is:\n"
     ]
    },
    {
     "data": {
      "text/plain": [
       "array([0, 0, 2, 2, 0, 1, 1, 2, 0, 1, 2, 2, 0, 1, 2, 0, 0, 0, 1, 1])"
      ]
     },
     "execution_count": 11,
     "metadata": {},
     "output_type": "execute_result"
    }
   ],
   "source": [
    "print(\"The actual data is:\")\n",
    "np.array(y_test)"
   ]
  },
  {
   "cell_type": "code",
   "execution_count": 39,
   "metadata": {
    "colab": {
     "base_uri": "https://localhost:8080/"
    },
    "id": "ZwXKKc5FSFMf",
    "outputId": "d6c6e632-2585-4405-87b6-4b2321e41298"
   },
   "outputs": [
    {
     "name": "stdout",
     "output_type": "stream",
     "text": [
      "              precision    recall  f1-score   support\n",
      "\n",
      "           0       0.75      1.00      0.86         6\n",
      "           1       1.00      0.75      0.86         8\n",
      "           2       0.83      0.83      0.83         6\n",
      "\n",
      "    accuracy                           0.85        20\n",
      "   macro avg       0.86      0.86      0.85        20\n",
      "weighted avg       0.88      0.85      0.85        20\n",
      "\n",
      "The model is 85.0% accurate\n"
     ]
    },
    {
     "data": {
      "text/plain": [
       "array([[6, 0, 0],\n",
       "       [1, 6, 1],\n",
       "       [1, 0, 5]])"
      ]
     },
     "execution_count": 39,
     "metadata": {},
     "output_type": "execute_result"
    }
   ],
   "source": [
    "print(classification_report(y_pred,y_test))\n",
    "print(f\"The model is {accuracy_score(y_pred,y_test)*100}% accurate\")\n",
    "confusion_matrix(y_pred,y_test)"
   ]
  },
  {
   "cell_type": "markdown",
   "metadata": {
    "id": "D5j6KOPCZ8av"
   },
   "source": [
    "The Machine-Learning Based Model is Created Successfully. Now You can test for classification of any image which falls in the mentioned Categories\n",
    "\n",
    "Testing of model :"
   ]
  },
  {
   "cell_type": "code",
   "execution_count": 44,
   "metadata": {
    "colab": {
     "base_uri": "https://localhost:8080/",
     "height": 427
    },
    "id": "6MVmsPLdS6-X",
    "outputId": "56a836cf-2eca-4111-d585-34697dd71db5"
   },
   "outputs": [
    {
     "name": "stdout",
     "output_type": "stream",
     "text": [
      "Enter URL of Imagehttps://encrypted-tbn0.gstatic.com/images?q=tbn:ANd9GcTI6W_ejjCaJHpFn8kb3WKxb7GshrCJoVhPig&usqp=CAU\n"
     ]
    },
    {
     "data": {
      "image/png": "[encoded data removed]",
      "text/plain": [
       "<Figure size 432x288 with 1 Axes>"
      ]
     },
     "metadata": {
      "needs_background": "light"
     },
     "output_type": "display_data"
    },
    {
     "name": "stdout",
     "output_type": "stream",
     "text": [
      "Cars = 70.54460376985206%\n",
      "Ice cream cone = 3.3203865791455263%\n",
      "Cricket ball = 26.135009651002417%\n",
      "The predicted image is : Cars\n",
      "Is the image a Cars ?(y/n)\n",
      "y\n",
      "Thank you for your feedback\n"
     ]
    }
   ],
   "source": [
    "#print(os.path.abspath(os.getcwd()))\n",
    "# example URL https://encrypted-tbn0.gstatic.com/images?q=tbn:ANd9GcTI6W_ejjCaJHpFn8kb3WKxb7GshrCJoVhPig&usqp=CAU\n",
    "model=joblib.load(\"./model.joblib\")\n",
    "\n",
    "url=input('Enter URL of Image')\n",
    "img=imread(url)\n",
    "plt.imshow(img)\n",
    "plt.show()\n",
    "img_resize=resize(img,(150,150,3))\n",
    "l=[img_resize.flatten()]\n",
    "probability=model.predict_proba(l)\n",
    "for ind,val in enumerate(Categories):\n",
    "    print(f'{val} = {probability[0][ind]*100}%')\n",
    "print(\"The predicted image is : \"+Categories[model.predict(l)[0]])\n",
    "print(f'Is the image a {Categories[model.predict(l)[0]]} ?(y/n)')\n",
    "while(True):\n",
    "    b=input()\n",
    "    if(b==\"y\" or b==\"n\"):\n",
    "        break\n",
    "    print(\"please enter either y or n\")\n",
    "\n",
    "if(b=='n'):\n",
    "    print(\"What is the image?\")\n",
    "    for i in range(len(Categories)):\n",
    "        print(f\"Enter {i} for {Categories[i]}\")\n",
    "    k=int(input())\n",
    "    while(k<0 or k>=len(Categories)):\n",
    "        print(f\"Please enter a valid number between 0-{len(Categories)-1}\")\n",
    "        k=int(input())\n",
    "    print(\"Please wait for a while for the model to learn from this image :)\")\n",
    "    flat_arr=flat_data_arr.copy()\n",
    "    tar_arr=target_arr.copy()\n",
    "    tar_arr.append(k)\n",
    "    flat_arr.extend(l)\n",
    "    tar_arr=np.array(tar_arr)\n",
    "    flat_df=np.array(flat_arr)\n",
    "    df1=pd.DataFrame(flat_df)\n",
    "    df1['Target']=tar_arr\n",
    "    model1=GridSearchCV(svc,param_grid)\n",
    "    x1=df1.iloc[:,:-1]\n",
    "    y1=df1.iloc[:,-1]\n",
    "    x_train1,x_test1,y_train1,y_test1=train_test_split(x1,y1,test_size=0.20,random_state=77,stratify=y1)\n",
    "    d={}\n",
    "    for i in model.best_params_:\n",
    "        d[i]=[model.best_params_[i]]\n",
    "    model1=GridSearchCV(svc,d)\n",
    "    model1.fit(x_train1,y_train1)\n",
    "    y_pred1=model.predict(x_test1)\n",
    "    print(f\"The model is now {accuracy_score(y_pred1,y_test1)*100}% accurate\")\n",
    "    pickle.dump(model1,open('img_model.p','wb'))\n",
    "print(\"Thank you for your feedback\")\n"
   ]
  },
  {
   "cell_type": "markdown",
   "metadata": {
    "id": "fJ_t-zqIsTCA"
   },
   "source": [
    "This model learns from its mistake and rectifies them and does not repeat the same mistake again ;)"
   ]
  }
 ],
 "metadata": {
  "colab": {
   "authorship_tag": "ABX9TyNXoByyuzJc8pEa+Ia/zOiv",
   "include_colab_link": true,
   "mount_file_id": "1f0XtS7FMhgrj2FnqPssOI3tsovKoVeXM",
   "name": "Shanmukh-Classification.ipynb",
   "provenance": [],
   "toc_visible": true
  },
  "kernelspec": {
   "display_name": "Python 3 (ipykernel)",
   "language": "python",
   "name": "python3"
  },
  "language_info": {
   "codemirror_mode": {
    "name": "ipython",
    "version": 3
   },
   "file_extension": ".py",
   "mimetype": "text/x-python",
   "name": "python",
   "nbconvert_exporter": "python",
   "pygments_lexer": "ipython3",
   "version": "3.9.12"
  }
 },
 "nbformat": 4,
 "nbformat_minor": 1
}
